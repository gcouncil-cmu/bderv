{
 "cells": [
  {
   "cell_type": "markdown",
   "metadata": {
    "id": "CXqDxnuVvdHR"
   },
   "source": [
    "# packages"
   ]
  },
  {
   "cell_type": "code",
   "execution_count": 1,
   "metadata": {
    "id": "naNnMWoyr5zN"
   },
   "outputs": [],
   "source": [
    "import numpy as np\n",
    "\n",
    "# produce matlab-style plots\n",
    "import matplotlib as mpl\n",
    "# increase font size on plots\n",
    "mpl.rc('font',**{'size':18})\n",
    "# use LaTeX to render symbols\n",
    "mpl.rc('text',usetex=False)\n",
    "# animation\n",
    "from matplotlib import animation as ani\n",
    "# Matlab-style plotting\n",
    "import matplotlib.pyplot as plt\n",
    "\n",
    "# symbolic computation, i.e. computer algebra (like Mathematica, Wolfram Alpha)\n",
    "import sympy as sym"
   ]
  },
  {
   "cell_type": "code",
   "execution_count": 2,
   "metadata": {
    "colab": {
     "base_uri": "https://localhost:8080/"
    },
    "id": "pz2SEIMFr8Zd",
    "outputId": "1c464922-747a-4d8b-943f-5bc97e325f49"
   },
   "outputs": [
    {
     "name": "stdout",
     "output_type": "stream",
     "text": [
      "Jupyter Notebook\n"
     ]
    }
   ],
   "source": [
    "# os = operating system; access OS-level commands\n",
    "# e.g. create directory, delete file, execute command\n",
    "# (more platform-independent than \"!\")\n",
    "import os\n",
    "\n",
    "# test whether this is a Colaboratory or Jupyter notebook\n",
    "try:\n",
    "  import google.colab\n",
    "  COLAB = True\n",
    "  print('Colaboratory Notebook')\n",
    "except:\n",
    "  COLAB = False\n",
    "  print('Jupyter Notebook')\n",
    "\n",
    "# Colab notebook\n",
    "if COLAB:  \n",
    "  # render SymPy equations nicely in Colaboratory Notebook\n",
    "  def colab_latex_printer(exp,**options):\n",
    "    from google.colab.output._publish import javascript\n",
    "    url = \"https://cdnjs.cloudflare.com/ajax/libs/mathjax/2.7.3/latest.js?config=default\"\n",
    "    javascript(url=url)\n",
    "    return sym.printing.latex(exp,**options)\n",
    "  \n",
    "  sym.init_printing(use_latex=\"mathjax\",latex_printer=colab_latex_printer)\n",
    "\n",
    "# Jupyter notebook\n",
    "else:\n",
    "  sym.init_printing(use_latex='mathjax')"
   ]
  },
  {
   "cell_type": "markdown",
   "metadata": {
    "id": "Yyw4RRLAyFLe"
   },
   "source": [
    "# table"
   ]
  },
  {
   "cell_type": "markdown",
   "metadata": {
    "id": "Z_oor_yzvpgA"
   },
   "source": [
    "## variables"
   ]
  },
  {
   "cell_type": "code",
   "execution_count": 3,
   "metadata": {
    "id": "CqFKYQBLsPmD"
   },
   "outputs": [],
   "source": [
    "m, I, x, y, w, dx, dy, dw, l, g, th, kappa, beta = sym.symbols(\n",
    "   r'm, I, x, y, \\omega, \\dot{x}, \\dot{y}, \\dot{\\omega}, \\ell, g, \\theta, \\alpha, \\beta'\n",
    "    )"
   ]
  },
  {
   "cell_type": "code",
   "execution_count": 4,
   "metadata": {
    "colab": {
     "base_uri": "https://localhost:8080/",
     "height": 78
    },
    "id": "RkB-FhZHsxQm",
    "outputId": "615ef41e-9b9c-4617-b9a0-3ff7ef51db9b"
   },
   "outputs": [
    {
     "data": {
      "text/latex": [
       "$\\displaystyle \\left[\\begin{matrix}x\\\\y\\\\\\omega\\end{matrix}\\right]$"
      ],
      "text/plain": [
       "⎡  x   ⎤\n",
       "⎢      ⎥\n",
       "⎢  y   ⎥\n",
       "⎢      ⎥\n",
       "⎣\\omega⎦"
      ]
     },
     "execution_count": 4,
     "metadata": {},
     "output_type": "execute_result"
    }
   ],
   "source": [
    "q = sym.Matrix([[x,y,w]]).T\n",
    "q\n"
   ]
  },
  {
   "cell_type": "code",
   "execution_count": 5,
   "metadata": {
    "colab": {
     "base_uri": "https://localhost:8080/",
     "height": 78
    },
    "id": "MLx07ezgvFjt",
    "outputId": "bfd7897f-0525-4806-a5ba-f1d383057149"
   },
   "outputs": [
    {
     "data": {
      "text/latex": [
       "$\\displaystyle \\left[\\begin{matrix}\\dot{x}\\\\\\dot{y}\\\\\\dot{\\omega}\\end{matrix}\\right]$"
      ],
      "text/plain": [
       "⎡  \\dot{x}   ⎤\n",
       "⎢            ⎥\n",
       "⎢  \\dot{y}   ⎥\n",
       "⎢            ⎥\n",
       "⎣\\dot{\\omega}⎦"
      ]
     },
     "execution_count": 5,
     "metadata": {},
     "output_type": "execute_result"
    }
   ],
   "source": [
    "dq = sym.Matrix([[dx,dy,dw]]).T\n",
    "dq"
   ]
  },
  {
   "cell_type": "code",
   "execution_count": 6,
   "metadata": {
    "colab": {
     "base_uri": "https://localhost:8080/",
     "height": 78
    },
    "id": "nkM98Bc2tud3",
    "outputId": "03bc59eb-7fb1-4252-e61d-ffd4732150d0"
   },
   "outputs": [
    {
     "data": {
      "text/latex": [
       "$\\displaystyle \\left[\\begin{matrix}1 & 0 & 0\\\\0 & 1 & 0\\\\0 & 0 & 1\\end{matrix}\\right]$"
      ],
      "text/plain": [
       "⎡1  0  0⎤\n",
       "⎢       ⎥\n",
       "⎢0  1  0⎥\n",
       "⎢       ⎥\n",
       "⎣0  0  1⎦"
      ]
     },
     "execution_count": 6,
     "metadata": {},
     "output_type": "execute_result"
    }
   ],
   "source": [
    "M = sym.Matrix([[1,0,0],[0,1,0],[0,0,1]])\n",
    "M"
   ]
  },
  {
   "cell_type": "code",
   "execution_count": 7,
   "metadata": {
    "colab": {
     "base_uri": "https://localhost:8080/",
     "height": 78
    },
    "id": "OQ89M2ECoAEs",
    "outputId": "594ab5cb-f671-4880-f060-4c9d1421996f"
   },
   "outputs": [
    {
     "data": {
      "text/latex": [
       "$\\displaystyle \\left[\\begin{array}{ccc}M_{0, 0} & M_{0, 1} & M_{0, 2}\\\\M_{1, 0} & M_{1, 1} & M_{1, 2}\\\\M_{2, 0} & M_{2, 1} & M_{2, 2}\\end{array}\\right]$"
      ],
      "text/plain": [
       "⎡M₀₀  M₀₁  M₀₂⎤\n",
       "⎢             ⎥\n",
       "⎢M₁₀  M₁₁  M₁₂⎥\n",
       "⎢             ⎥\n",
       "⎣M₂₀  M₂₁  M₂₂⎦"
      ]
     },
     "execution_count": 7,
     "metadata": {},
     "output_type": "execute_result"
    }
   ],
   "source": [
    "M = sym.Matrix(sym.MatrixSymbol('M',3,3))\n",
    "M"
   ]
  },
  {
   "cell_type": "code",
   "execution_count": 8,
   "metadata": {
    "colab": {
     "base_uri": "https://localhost:8080/",
     "height": 78
    },
    "id": "478xMihUtwF1",
    "outputId": "01870e1a-aca9-4aa2-a521-36e69a68b5a0"
   },
   "outputs": [
    {
     "data": {
      "text/latex": [
       "$\\displaystyle \\left[\\begin{matrix}0\\\\- g\\\\0\\end{matrix}\\right]$"
      ],
      "text/plain": [
       "⎡0 ⎤\n",
       "⎢  ⎥\n",
       "⎢-g⎥\n",
       "⎢  ⎥\n",
       "⎣0 ⎦"
      ]
     },
     "execution_count": 8,
     "metadata": {},
     "output_type": "execute_result"
    }
   ],
   "source": [
    "f = sym.Matrix([[0,-g,0]]).T\n",
    "f"
   ]
  },
  {
   "cell_type": "markdown",
   "metadata": {
    "id": "ozAf26P4t_rG"
   },
   "source": [
    "## constraints"
   ]
  },
  {
   "cell_type": "code",
   "execution_count": 69,
   "metadata": {
    "id": "A-2toL4Z2Jz1"
   },
   "outputs": [],
   "source": [
    "#foot locations\n",
    "l1 = sym.Matrix([sym.cos(th),-sym.sin(th)])  ##right foot in body frame\n",
    "l2 = sym.Matrix([-sym.cos(th), -sym.sin(th)]) ##left foot in body frame\n",
    "R  = sym.Matrix([[sym.cos(w), -sym.sin(w)],[sym.sin(w), sym.cos(w)]]) ##rotation by w\n",
    "p1 = R*l1 \n",
    "p2 = R*l2\n",
    "p1.simplify()\n",
    "p2.simplify()\n",
    "p1+=sym.Matrix([x,y])\n",
    "p2+=sym.Matrix([x,y])"
   ]
  },
  {
   "cell_type": "code",
   "execution_count": 70,
   "metadata": {
    "colab": {
     "base_uri": "https://localhost:8080/",
     "height": 62
    },
    "id": "DcxVBujmtx0B",
    "outputId": "b8d3be71-7d11-46b2-9546-75402fe67766"
   },
   "outputs": [
    {
     "data": {
      "text/latex": [
       "$\\displaystyle \\left[\\begin{matrix}- y - \\left(x + \\cos{\\left(\\omega - \\theta \\right)}\\right)^{2} - \\sin{\\left(\\omega - \\theta \\right)}\\\\- y - \\left(x - \\cos{\\left(\\omega + \\theta \\right)}\\right)^{2} + \\sin{\\left(\\omega + \\theta \\right)}\\end{matrix}\\right]$"
      ],
      "text/plain": [
       "⎡                               2                       ⎤\n",
       "⎢-y - (x + cos(\\omega - \\theta))  - sin(\\omega - \\theta)⎥\n",
       "⎢                                                       ⎥\n",
       "⎢                               2                       ⎥\n",
       "⎣-y - (x - cos(\\omega + \\theta))  + sin(\\omega + \\theta)⎦"
      ]
     },
     "execution_count": 70,
     "metadata": {},
     "output_type": "execute_result"
    }
   ],
   "source": [
    "# parabolic ground\n",
    "a = -sym.Matrix([p1[0]**2 + p1[1], \n",
    "                 p2[0]**2 + p2[1]])\n",
    "a"
   ]
  },
  {
   "cell_type": "code",
   "execution_count": 27,
   "metadata": {
    "id": "w0PPPO14xFtF"
   },
   "outputs": [
    {
     "data": {
      "text/latex": [
       "$\\displaystyle \\left[\\begin{matrix}- \\ell \\sin{\\left(\\omega + \\theta \\right)} + y\\\\- \\ell \\sin{\\left(\\omega - \\theta \\right)} + y\\end{matrix}\\right]$"
      ],
      "text/plain": [
       "⎡-\\ell⋅sin(\\omega + \\theta) + y⎤\n",
       "⎢                              ⎥\n",
       "⎣-\\ell⋅sin(\\omega - \\theta) + y⎦"
      ]
     },
     "execution_count": 27,
     "metadata": {},
     "output_type": "execute_result"
    }
   ],
   "source": [
    "# flat ground\n",
    "#a = sym.Matrix([[(y - l*sym.sin(w+th)), (y - l*sym.sin(w-th))]]).T\n",
    "#a"
   ]
  },
  {
   "cell_type": "code",
   "execution_count": 44,
   "metadata": {
    "colab": {
     "base_uri": "https://localhost:8080/",
     "height": 58
    },
    "id": "LLJuIWbgtpZL",
    "outputId": "7566ebe8-b0c1-4fb7-82d1-1de8b613961c"
   },
   "outputs": [
    {
     "data": {
      "text/latex": [
       "$\\displaystyle \\left[\\begin{matrix}- 2 x - 2 \\cos{\\left(\\omega - \\theta \\right)} & -1 & 2 \\left(x + \\cos{\\left(\\omega - \\theta \\right)}\\right) \\sin{\\left(\\omega - \\theta \\right)} - \\cos{\\left(\\omega - \\theta \\right)}\\\\- 2 x + 2 \\cos{\\left(\\omega + \\theta \\right)} & -1 & - 2 \\left(x - \\cos{\\left(\\omega + \\theta \\right)}\\right) \\sin{\\left(\\omega + \\theta \\right)} + \\cos{\\left(\\omega + \\theta \\right)}\\end{matrix}\\right]$"
      ],
      "text/plain": [
       "⎡-2⋅x - 2⋅cos(\\omega - \\theta)  -1  2⋅(x + cos(\\omega - \\theta))⋅sin(\\omega - \n",
       "⎢                                                                             \n",
       "⎣-2⋅x + 2⋅cos(\\omega + \\theta)  -1  -2⋅(x - cos(\\omega + \\theta))⋅sin(\\omega +\n",
       "\n",
       "\\theta) - cos(\\omega - \\theta) ⎤\n",
       "                               ⎥\n",
       " \\theta) + cos(\\omega + \\theta)⎦"
      ]
     },
     "execution_count": 44,
     "metadata": {},
     "output_type": "execute_result"
    }
   ],
   "source": [
    "Da = sym.Matrix.hstack(*[sym.diff(a,_) for _ in q])\n",
    "Da"
   ]
  },
  {
   "cell_type": "code",
   "execution_count": 45,
   "metadata": {
    "colab": {
     "base_uri": "https://localhost:8080/",
     "height": 58
    },
    "id": "RI1z4v9QyvzC",
    "outputId": "cf3a5bde-e44c-45cd-8a86-297d66bf5d03"
   },
   "outputs": [
    {
     "data": {
      "text/latex": [
       "$\\displaystyle \\left[\\begin{matrix}- 2 x - 2 \\cos{\\left(\\omega - \\theta \\right)} & -1 & 2 \\left(x + \\cos{\\left(\\omega - \\theta \\right)}\\right) \\sin{\\left(\\omega - \\theta \\right)} - \\cos{\\left(\\omega - \\theta \\right)} & 0 & 0 & 0\\\\- 2 x + 2 \\cos{\\left(\\omega + \\theta \\right)} & -1 & - 2 \\left(x - \\cos{\\left(\\omega + \\theta \\right)}\\right) \\sin{\\left(\\omega + \\theta \\right)} + \\cos{\\left(\\omega + \\theta \\right)} & 0 & 0 & 0\\end{matrix}\\right]$"
      ],
      "text/plain": [
       "⎡-2⋅x - 2⋅cos(\\omega - \\theta)  -1  2⋅(x + cos(\\omega - \\theta))⋅sin(\\omega - \n",
       "⎢                                                                             \n",
       "⎣-2⋅x + 2⋅cos(\\omega + \\theta)  -1  -2⋅(x - cos(\\omega + \\theta))⋅sin(\\omega +\n",
       "\n",
       "\\theta) - cos(\\omega - \\theta)   0  0  0⎤\n",
       "                                        ⎥\n",
       " \\theta) + cos(\\omega + \\theta)  0  0  0⎦"
      ]
     },
     "execution_count": 45,
     "metadata": {},
     "output_type": "execute_result"
    }
   ],
   "source": [
    "Dh = sym.Matrix.hstack(Da,sym.Matrix.zeros(2,3))\n",
    "Dh"
   ]
  },
  {
   "cell_type": "code",
   "execution_count": 46,
   "metadata": {
    "colab": {
     "base_uri": "https://localhost:8080/",
     "height": 58
    },
    "id": "qtex4XEuvKX3",
    "outputId": "dd8f437f-f41a-410b-c6e3-d81733935027"
   },
   "outputs": [
    {
     "data": {
      "text/latex": [
       "$\\displaystyle \\left[\\begin{matrix}\\ell \\cos{\\left(\\omega + \\theta \\right)} + x\\\\\\ell \\cos{\\left(\\omega - \\theta \\right)} + x\\end{matrix}\\right]$"
      ],
      "text/plain": [
       "⎡\\ell⋅cos(\\omega + \\theta) + x⎤\n",
       "⎢                             ⎥\n",
       "⎣\\ell⋅cos(\\omega - \\theta) + x⎦"
      ]
     },
     "execution_count": 46,
     "metadata": {},
     "output_type": "execute_result"
    }
   ],
   "source": [
    "b = sym.Matrix([[x + l*sym.cos(w+th),x + l*sym.cos(w-th)]]).T\n",
    "b"
   ]
  },
  {
   "cell_type": "markdown",
   "metadata": {
    "id": "JrqymIKKe3xl"
   },
   "source": []
  },
  {
   "cell_type": "code",
   "execution_count": 47,
   "metadata": {
    "colab": {
     "base_uri": "https://localhost:8080/",
     "height": 58
    },
    "id": "wluiahs8vf7K",
    "outputId": "79377a6f-b492-4403-8a5a-10bb07971575"
   },
   "outputs": [
    {
     "data": {
      "text/latex": [
       "$\\displaystyle \\left[\\begin{matrix}1 & 0 & - \\ell \\sin{\\left(\\omega + \\theta \\right)}\\\\1 & 0 & - \\ell \\sin{\\left(\\omega - \\theta \\right)}\\end{matrix}\\right]$"
      ],
      "text/plain": [
       "⎡1  0  -\\ell⋅sin(\\omega + \\theta)⎤\n",
       "⎢                                ⎥\n",
       "⎣1  0  -\\ell⋅sin(\\omega - \\theta)⎦"
      ]
     },
     "execution_count": 47,
     "metadata": {},
     "output_type": "execute_result"
    }
   ],
   "source": [
    "Db = sym.Matrix.hstack(*[sym.diff(b,_) for _ in q])\n",
    "Db"
   ]
  },
  {
   "cell_type": "code",
   "execution_count": 48,
   "metadata": {
    "colab": {
     "base_uri": "https://localhost:8080/",
     "height": 58
    },
    "id": "ejIynOb4vqxp",
    "outputId": "93524767-7df3-4203-8fed-6252152dcaec"
   },
   "outputs": [
    {
     "data": {
      "text/latex": [
       "$\\displaystyle \\left[\\begin{matrix}1 & 0 & - \\ell \\sin{\\left(\\omega + \\theta \\right)} & 0 & 0 & 0\\\\1 & 0 & - \\ell \\sin{\\left(\\omega - \\theta \\right)} & 0 & 0 & 0\\end{matrix}\\right]$"
      ],
      "text/plain": [
       "⎡1  0  -\\ell⋅sin(\\omega + \\theta)  0  0  0⎤\n",
       "⎢                                         ⎥\n",
       "⎣1  0  -\\ell⋅sin(\\omega - \\theta)  0  0  0⎦"
      ]
     },
     "execution_count": 48,
     "metadata": {},
     "output_type": "execute_result"
    }
   ],
   "source": [
    "Dg = sym.Matrix.hstack(Db,sym.Matrix.zeros(2,3))\n",
    "Dg"
   ]
  },
  {
   "cell_type": "markdown",
   "metadata": {
    "id": "ZvupUuCruD48"
   },
   "source": [
    "## vector fields"
   ]
  },
  {
   "cell_type": "code",
   "execution_count": 49,
   "metadata": {
    "id": "NM55udpSob_D"
   },
   "outputs": [],
   "source": [
    "#Mi = sym.Matrix.inv(M)\n",
    "Mi = sym.Matrix.eye(3)"
   ]
  },
  {
   "cell_type": "code",
   "execution_count": 59,
   "metadata": {
    "id": "V31P_A7yvjWU"
   },
   "outputs": [],
   "source": [
    "F = {}\n",
    "for b in [(-1,-1),(+1,-1),(-1,+1),(+1,+1)]:\n",
    "  Mddq = f\n",
    "  for j in [0,1]:\n",
    "    if b[j] > 0:\n",
    "      Mddq -= (kappa * a[j] + beta * (Da[j,:] * dq)[0]) * Da[j,:].T\n",
    "  if b == (+1,-1):\n",
    "    Mddq -= (beta * (Da[0,:] * dq)[0]) * Da[0,:].T / 2 \n",
    "  if b == (-1,+1):\n",
    "    Mddq -= (beta * (Da[1,:] * dq)[0]) * Da[1,:].T / 2\n",
    "  ddq = Mi*Mddq\n",
    "  F[b] = (sym.expand(sym.Matrix.vstack(dq,ddq)))"
   ]
  },
  {
   "cell_type": "code",
   "execution_count": 60,
   "metadata": {
    "colab": {
     "base_uri": "https://localhost:8080/",
     "height": 139
    },
    "id": "zXji2UCjxQ1V",
    "outputId": "d2610eec-f511-47af-ca20-f3c120aa5248"
   },
   "outputs": [
    {
     "data": {
      "text/latex": [
       "$\\displaystyle \\left[\\begin{matrix}\\dot{x}\\\\\\dot{y}\\\\\\dot{\\omega}\\\\0\\\\- g\\\\0\\end{matrix}\\right]$"
      ],
      "text/plain": [
       "⎡  \\dot{x}   ⎤\n",
       "⎢            ⎥\n",
       "⎢  \\dot{y}   ⎥\n",
       "⎢            ⎥\n",
       "⎢\\dot{\\omega}⎥\n",
       "⎢            ⎥\n",
       "⎢     0      ⎥\n",
       "⎢            ⎥\n",
       "⎢     -g     ⎥\n",
       "⎢            ⎥\n",
       "⎣     0      ⎦"
      ]
     },
     "execution_count": 60,
     "metadata": {},
     "output_type": "execute_result"
    }
   ],
   "source": [
    "F[(-1,-1)]"
   ]
  },
  {
   "cell_type": "code",
   "execution_count": 61,
   "metadata": {
    "colab": {
     "base_uri": "https://localhost:8080/",
     "height": 162
    },
    "id": "ZZvIsAy7xszj",
    "outputId": "669c6449-2e24-4e83-e68c-a72ba565ac46"
   },
   "outputs": [
    {
     "data": {
      "text/latex": [
       "$\\displaystyle \\left[\\begin{matrix}\\dot{x}\\\\\\dot{y}\\\\\\dot{\\omega}\\\\- 2 \\alpha x^{3} - 6 \\alpha x^{2} \\cos{\\left(\\omega - \\theta \\right)} - 2 \\alpha x y - 2 \\alpha x \\sin{\\left(\\omega - \\theta \\right)} - 6 \\alpha x \\cos^{2}{\\left(\\omega - \\theta \\right)} - 2 \\alpha y \\cos{\\left(\\omega - \\theta \\right)} - 2 \\alpha \\sin{\\left(\\omega - \\theta \\right)} \\cos{\\left(\\omega - \\theta \\right)} - 2 \\alpha \\cos^{3}{\\left(\\omega - \\theta \\right)} + 6 \\beta \\dot{\\omega} x^{2} \\sin{\\left(\\omega - \\theta \\right)} + 12 \\beta \\dot{\\omega} x \\sin{\\left(\\omega - \\theta \\right)} \\cos{\\left(\\omega - \\theta \\right)} - 3 \\beta \\dot{\\omega} x \\cos{\\left(\\omega - \\theta \\right)} + 6 \\beta \\dot{\\omega} \\sin{\\left(\\omega - \\theta \\right)} \\cos^{2}{\\left(\\omega - \\theta \\right)} - 3 \\beta \\dot{\\omega} \\cos^{2}{\\left(\\omega - \\theta \\right)} - 6 \\beta \\dot{x} x^{2} - 12 \\beta \\dot{x} x \\cos{\\left(\\omega - \\theta \\right)} - 6 \\beta \\dot{x} \\cos^{2}{\\left(\\omega - \\theta \\right)} - 3 \\beta \\dot{y} x - 3 \\beta \\dot{y} \\cos{\\left(\\omega - \\theta \\right)}\\\\- \\alpha x^{2} - 2 \\alpha x \\cos{\\left(\\omega - \\theta \\right)} - \\alpha y - \\alpha \\sin{\\left(\\omega - \\theta \\right)} - \\alpha \\cos^{2}{\\left(\\omega - \\theta \\right)} + 3 \\beta \\dot{\\omega} x \\sin{\\left(\\omega - \\theta \\right)} + 3 \\beta \\dot{\\omega} \\sin{\\left(\\omega - \\theta \\right)} \\cos{\\left(\\omega - \\theta \\right)} - \\frac{3 \\beta \\dot{\\omega} \\cos{\\left(\\omega - \\theta \\right)}}{2} - 3 \\beta \\dot{x} x - 3 \\beta \\dot{x} \\cos{\\left(\\omega - \\theta \\right)} - \\frac{3 \\beta \\dot{y}}{2} - g\\\\2 \\alpha x^{3} \\sin{\\left(\\omega - \\theta \\right)} + 6 \\alpha x^{2} \\sin{\\left(\\omega - \\theta \\right)} \\cos{\\left(\\omega - \\theta \\right)} - \\alpha x^{2} \\cos{\\left(\\omega - \\theta \\right)} + 2 \\alpha x y \\sin{\\left(\\omega - \\theta \\right)} + 2 \\alpha x \\sin^{2}{\\left(\\omega - \\theta \\right)} + 6 \\alpha x \\sin{\\left(\\omega - \\theta \\right)} \\cos^{2}{\\left(\\omega - \\theta \\right)} - 2 \\alpha x \\cos^{2}{\\left(\\omega - \\theta \\right)} + 2 \\alpha y \\sin{\\left(\\omega - \\theta \\right)} \\cos{\\left(\\omega - \\theta \\right)} - \\alpha y \\cos{\\left(\\omega - \\theta \\right)} + 2 \\alpha \\sin^{2}{\\left(\\omega - \\theta \\right)} \\cos{\\left(\\omega - \\theta \\right)} + 2 \\alpha \\sin{\\left(\\omega - \\theta \\right)} \\cos^{3}{\\left(\\omega - \\theta \\right)} - \\alpha \\sin{\\left(\\omega - \\theta \\right)} \\cos{\\left(\\omega - \\theta \\right)} - \\alpha \\cos^{3}{\\left(\\omega - \\theta \\right)} - 6 \\beta \\dot{\\omega} x^{2} \\sin^{2}{\\left(\\omega - \\theta \\right)} - 12 \\beta \\dot{\\omega} x \\sin^{2}{\\left(\\omega - \\theta \\right)} \\cos{\\left(\\omega - \\theta \\right)} + 6 \\beta \\dot{\\omega} x \\sin{\\left(\\omega - \\theta \\right)} \\cos{\\left(\\omega - \\theta \\right)} - 6 \\beta \\dot{\\omega} \\sin^{2}{\\left(\\omega - \\theta \\right)} \\cos^{2}{\\left(\\omega - \\theta \\right)} + 6 \\beta \\dot{\\omega} \\sin{\\left(\\omega - \\theta \\right)} \\cos^{2}{\\left(\\omega - \\theta \\right)} - \\frac{3 \\beta \\dot{\\omega} \\cos^{2}{\\left(\\omega - \\theta \\right)}}{2} + 6 \\beta \\dot{x} x^{2} \\sin{\\left(\\omega - \\theta \\right)} + 12 \\beta \\dot{x} x \\sin{\\left(\\omega - \\theta \\right)} \\cos{\\left(\\omega - \\theta \\right)} - 3 \\beta \\dot{x} x \\cos{\\left(\\omega - \\theta \\right)} + 6 \\beta \\dot{x} \\sin{\\left(\\omega - \\theta \\right)} \\cos^{2}{\\left(\\omega - \\theta \\right)} - 3 \\beta \\dot{x} \\cos^{2}{\\left(\\omega - \\theta \\right)} + 3 \\beta \\dot{y} x \\sin{\\left(\\omega - \\theta \\right)} + 3 \\beta \\dot{y} \\sin{\\left(\\omega - \\theta \\right)} \\cos{\\left(\\omega - \\theta \\right)} - \\frac{3 \\beta \\dot{y} \\cos{\\left(\\omega - \\theta \\right)}}{2}\\end{matrix}\\right]$"
      ],
      "text/plain": [
       "⎡                                                                             \n",
       "⎢                                                                             \n",
       "⎢                                                                             \n",
       "⎢                                                                             \n",
       "⎢                                                                             \n",
       "⎢                                                                             \n",
       "⎢                                                                             \n",
       "⎢                                                                             \n",
       "⎢                                                                             \n",
       "⎢                                                                             \n",
       "⎢                                                                             \n",
       "⎢                                                                             \n",
       "⎢                                                                             \n",
       "⎢                                                                             \n",
       "⎢          3                                  2                               \n",
       "⎢2⋅\\alpha⋅x ⋅sin(\\omega - \\theta) + 6⋅\\alpha⋅x ⋅sin(\\omega - \\theta)⋅cos(\\omeg\n",
       "⎣                                                                             \n",
       "\n",
       "                                                                              \n",
       "                                                                              \n",
       "                                                                              \n",
       "                                                                              \n",
       "                                                                              \n",
       "                                                                              \n",
       "                                                                              \n",
       "                                                                              \n",
       "                                                                              \n",
       "                                                                              \n",
       "                                                                              \n",
       "                                                                              \n",
       "                                                                              \n",
       "                                                                              \n",
       "                      2                                                       \n",
       "a - \\theta) - \\alpha⋅x ⋅cos(\\omega - \\theta) + 2⋅\\alpha⋅x⋅y⋅sin(\\omega - \\thet\n",
       "                                                                              \n",
       "\n",
       "                                                                              \n",
       "                                                                              \n",
       "                                                                              \n",
       "                                                                              \n",
       "                                                                              \n",
       "                                                                              \n",
       "                                                                              \n",
       "                                                                              \n",
       "                                                                              \n",
       "                                                                              \n",
       "                                                                              \n",
       "                                                                              \n",
       "                                                                              \n",
       "                                                                              \n",
       "                   2                                                       2  \n",
       "a) + 2⋅\\alpha⋅x⋅sin (\\omega - \\theta) + 6⋅\\alpha⋅x⋅sin(\\omega - \\theta)⋅cos (\\\n",
       "                                                                              \n",
       "\n",
       "                                                                              \n",
       "                                                                              \n",
       "                                                                              \n",
       "                                                                              \n",
       "                                                                              \n",
       "                                                                              \n",
       "                                                                              \n",
       "                                                                              \n",
       "                                                                              \n",
       "                                                                              \n",
       "                                                                              \n",
       "                                                                              \n",
       "                                                                              \n",
       "                                                                              \n",
       "                                2                                             \n",
       "omega - \\theta) - 2⋅\\alpha⋅x⋅cos (\\omega - \\theta) + 2⋅\\alpha⋅y⋅sin(\\omega - \\\n",
       "                                                                              \n",
       "\n",
       "                                                                              \n",
       "                                                                              \n",
       "                                                                              \n",
       "                                                                              \n",
       "                                                                              \n",
       "                                                                              \n",
       "            3             2                                                   \n",
       "- 2⋅\\alpha⋅x  - 6⋅\\alpha⋅x ⋅cos(\\omega - \\theta) - 2⋅\\alpha⋅x⋅y - 2⋅\\alpha⋅x⋅s\n",
       "                                                                              \n",
       "                                                                              \n",
       "                                                                              \n",
       "                                                                              \n",
       "                                                                              \n",
       "                                                                              \n",
       "                                                                          2   \n",
       "theta)⋅cos(\\omega - \\theta) - \\alpha⋅y⋅cos(\\omega - \\theta) + 2⋅\\alpha⋅sin (\\o\n",
       "                                                                              \n",
       "\n",
       "                                                                              \n",
       "                                                                              \n",
       "                                                                              \n",
       "                                                                              \n",
       "                                                                              \n",
       "                                                                              \n",
       "                                    2                                         \n",
       "in(\\omega - \\theta) - 6⋅\\alpha⋅x⋅cos (\\omega - \\theta) - 2⋅\\alpha⋅y⋅cos(\\omega\n",
       "                                                                              \n",
       "                                                                              \n",
       "                                                                              \n",
       "                                                                              \n",
       "                                                                              \n",
       "                                                                              \n",
       "                                                                       3      \n",
       "mega - \\theta)⋅cos(\\omega - \\theta) + 2⋅\\alpha⋅sin(\\omega - \\theta)⋅cos (\\omeg\n",
       "                                                                              \n",
       "\n",
       "                                                                              \n",
       "                                                                              \n",
       "                                                                              \n",
       "                                                                              \n",
       "                                                                              \n",
       "                                                                              \n",
       "                                                                              \n",
       " - \\theta) - 2⋅\\alpha⋅sin(\\omega - \\theta)⋅cos(\\omega - \\theta) - 2⋅\\alpha⋅cos\n",
       "                                                                              \n",
       "                     2                                                        \n",
       "           - \\alpha⋅x  - 2⋅\\alpha⋅x⋅cos(\\omega - \\theta) - \\alpha⋅y - \\alpha⋅s\n",
       "                                                                              \n",
       "                                                                              \n",
       "                                                                              \n",
       "                                                                           3  \n",
       "a - \\theta) - \\alpha⋅sin(\\omega - \\theta)⋅cos(\\omega - \\theta) - \\alpha⋅cos (\\\n",
       "                                                                              \n",
       "\n",
       "                                                                              \n",
       "                                                                              \n",
       "                                                                              \n",
       "                                                                              \n",
       "                                                                              \n",
       "                                                                              \n",
       "3                                          2                                  \n",
       " (\\omega - \\theta) + 6⋅\\beta⋅\\dot{\\omega}⋅x ⋅sin(\\omega - \\theta) + 12⋅\\beta⋅\\\n",
       "                                                                              \n",
       "                                2                                             \n",
       "in(\\omega - \\theta) - \\alpha⋅cos (\\omega - \\theta) + 3⋅\\beta⋅\\dot{\\omega}⋅x⋅si\n",
       "                                                                              \n",
       "                                                                              \n",
       "                                                                              \n",
       "                                        2    2                                \n",
       "omega - \\theta) - 6⋅\\beta⋅\\dot{\\omega}⋅x ⋅sin (\\omega - \\theta) - 12⋅\\beta⋅\\do\n",
       "                                                                              \n",
       "\n",
       "                            \\dot{x}                                           \n",
       "                                                                              \n",
       "                            \\dot{y}                                           \n",
       "                                                                              \n",
       "                         \\dot{\\omega}                                         \n",
       "                                                                              \n",
       "                                                                              \n",
       "dot{\\omega}⋅x⋅sin(\\omega - \\theta)⋅cos(\\omega - \\theta) - 3⋅\\beta⋅\\dot{\\omega}\n",
       "                                                                              \n",
       "                                                                              \n",
       "n(\\omega - \\theta) + 3⋅\\beta⋅\\dot{\\omega}⋅sin(\\omega - \\theta)⋅cos(\\omega - \\t\n",
       "                                                                              \n",
       "                                                                              \n",
       "                                                                              \n",
       "               2                                                              \n",
       "t{\\omega}⋅x⋅sin (\\omega - \\theta)⋅cos(\\omega - \\theta) + 6⋅\\beta⋅\\dot{\\omega}⋅\n",
       "                                                                              \n",
       "\n",
       "                                                                              \n",
       "                                                                              \n",
       "                                                                              \n",
       "                                                                              \n",
       "                                                                              \n",
       "                                                                              \n",
       "                                                                       2      \n",
       "⋅x⋅cos(\\omega - \\theta) + 6⋅\\beta⋅\\dot{\\omega}⋅sin(\\omega - \\theta)⋅cos (\\omeg\n",
       "                                                                              \n",
       "        3⋅\\beta⋅\\dot{\\omega}⋅cos(\\omega - \\theta)                             \n",
       "heta) - ───────────────────────────────────────── - 3⋅\\beta⋅\\dot{x}⋅x - 3⋅\\bet\n",
       "                            2                                                 \n",
       "                                                                              \n",
       "                                                                              \n",
       "                                                                      2       \n",
       "x⋅sin(\\omega - \\theta)⋅cos(\\omega - \\theta) - 6⋅\\beta⋅\\dot{\\omega}⋅sin (\\omega\n",
       "                                                                              \n",
       "\n",
       "                                                                              \n",
       "                                                                              \n",
       "                                                                              \n",
       "                                                                              \n",
       "                                                                              \n",
       "                                                                              \n",
       "                                      2                                     2 \n",
       "a - \\theta) - 3⋅\\beta⋅\\dot{\\omega}⋅cos (\\omega - \\theta) - 6⋅\\beta⋅\\dot{x}⋅x  \n",
       "                                                                              \n",
       "                                 3⋅\\beta⋅\\dot{y}                              \n",
       "a⋅\\dot{x}⋅cos(\\omega - \\theta) - ─────────────── - g                          \n",
       "                                        2                                     \n",
       "                                                                              \n",
       "                                                                              \n",
       "              2                                                               \n",
       " - \\theta)⋅cos (\\omega - \\theta) + 6⋅\\beta⋅\\dot{\\omega}⋅sin(\\omega - \\theta)⋅c\n",
       "                                                                              \n",
       "\n",
       "                                                                              \n",
       "                                                                              \n",
       "                                                                              \n",
       "                                                                              \n",
       "                                                                              \n",
       "                                                                              \n",
       "                                                               2              \n",
       "- 12⋅\\beta⋅\\dot{x}⋅x⋅cos(\\omega - \\theta) - 6⋅\\beta⋅\\dot{x}⋅cos (\\omega - \\the\n",
       "                                                                              \n",
       "                                                                              \n",
       "                                                                              \n",
       "                                                                              \n",
       "                                                                              \n",
       "                                               2                              \n",
       "  2                    3⋅\\beta⋅\\dot{\\omega}⋅cos (\\omega - \\theta)             \n",
       "os (\\omega - \\theta) - ────────────────────────────────────────── + 6⋅\\beta⋅\\d\n",
       "                                           2                                  \n",
       "\n",
       "                                                                              \n",
       "                                                                              \n",
       "                                                                              \n",
       "                                                                              \n",
       "                                                                              \n",
       "                                                                              \n",
       "                                                                              \n",
       "ta) - 3⋅\\beta⋅\\dot{y}⋅x - 3⋅\\beta⋅\\dot{y}⋅cos(\\omega - \\theta)                \n",
       "                                                                              \n",
       "                                                                              \n",
       "                                                                              \n",
       "                                                                              \n",
       "                                                                              \n",
       "                                                                              \n",
       "       2                                                                      \n",
       "ot{x}⋅x ⋅sin(\\omega - \\theta) + 12⋅\\beta⋅\\dot{x}⋅x⋅sin(\\omega - \\theta)⋅cos(\\o\n",
       "                                                                              \n",
       "\n",
       "                                                                              \n",
       "                                                                              \n",
       "                                                                              \n",
       "                                                                              \n",
       "                                                                              \n",
       "                                                                              \n",
       "                                                                              \n",
       "                                                                              \n",
       "                                                                              \n",
       "                                                                              \n",
       "                                                                              \n",
       "                                                                              \n",
       "                                                                              \n",
       "                                                                              \n",
       "                                                                              \n",
       "mega - \\theta) - 3⋅\\beta⋅\\dot{x}⋅x⋅cos(\\omega - \\theta) + 6⋅\\beta⋅\\dot{x}⋅sin(\n",
       "                                                                              \n",
       "\n",
       "                                                                              \n",
       "                                                                              \n",
       "                                                                              \n",
       "                                                                              \n",
       "                                                                              \n",
       "                                                                              \n",
       "                                                                              \n",
       "                                                                              \n",
       "                                                                              \n",
       "                                                                              \n",
       "                                                                              \n",
       "                                                                              \n",
       "                                                                              \n",
       "                                                                              \n",
       "                    2                                       2                 \n",
       "\\omega - \\theta)⋅cos (\\omega - \\theta) - 3⋅\\beta⋅\\dot{x}⋅cos (\\omega - \\theta)\n",
       "                                                                              \n",
       "\n",
       "                                                                              \n",
       "                                                                              \n",
       "                                                                              \n",
       "                                                                              \n",
       "                                                                              \n",
       "                                                                              \n",
       "                                                                              \n",
       "                                                                              \n",
       "                                                                              \n",
       "                                                                              \n",
       "                                                                              \n",
       "                                                                              \n",
       "                                                                              \n",
       "                                                                              \n",
       "                                                                              \n",
       " + 3⋅\\beta⋅\\dot{y}⋅x⋅sin(\\omega - \\theta) + 3⋅\\beta⋅\\dot{y}⋅sin(\\omega - \\thet\n",
       "                                                                              \n",
       "\n",
       "                                                              ⎤\n",
       "                                                              ⎥\n",
       "                                                              ⎥\n",
       "                                                              ⎥\n",
       "                                                              ⎥\n",
       "                                                              ⎥\n",
       "                                                              ⎥\n",
       "                                                              ⎥\n",
       "                                                              ⎥\n",
       "                                                              ⎥\n",
       "                                                              ⎥\n",
       "                                                              ⎥\n",
       "                                                              ⎥\n",
       "                                                              ⎥\n",
       "                          3⋅\\beta⋅\\dot{y}⋅cos(\\omega - \\theta)⎥\n",
       "a)⋅cos(\\omega - \\theta) - ────────────────────────────────────⎥\n",
       "                                           2                  ⎦"
      ]
     },
     "execution_count": 61,
     "metadata": {},
     "output_type": "execute_result"
    }
   ],
   "source": [
    "F[(+1,-1)]"
   ]
  },
  {
   "cell_type": "code",
   "execution_count": 62,
   "metadata": {
    "id": "eyvhbx8rxuMJ"
   },
   "outputs": [
    {
     "data": {
      "text/latex": [
       "$\\displaystyle \\left[\\begin{matrix}\\dot{x}\\\\\\dot{y}\\\\\\dot{\\omega}\\\\- 2 \\alpha x^{3} + 6 \\alpha x^{2} \\cos{\\left(\\omega + \\theta \\right)} - 2 \\alpha x y + 2 \\alpha x \\sin{\\left(\\omega + \\theta \\right)} - 6 \\alpha x \\cos^{2}{\\left(\\omega + \\theta \\right)} + 2 \\alpha y \\cos{\\left(\\omega + \\theta \\right)} - 2 \\alpha \\sin{\\left(\\omega + \\theta \\right)} \\cos{\\left(\\omega + \\theta \\right)} + 2 \\alpha \\cos^{3}{\\left(\\omega + \\theta \\right)} - 6 \\beta \\dot{\\omega} x^{2} \\sin{\\left(\\omega + \\theta \\right)} + 12 \\beta \\dot{\\omega} x \\sin{\\left(\\omega + \\theta \\right)} \\cos{\\left(\\omega + \\theta \\right)} + 3 \\beta \\dot{\\omega} x \\cos{\\left(\\omega + \\theta \\right)} - 6 \\beta \\dot{\\omega} \\sin{\\left(\\omega + \\theta \\right)} \\cos^{2}{\\left(\\omega + \\theta \\right)} - 3 \\beta \\dot{\\omega} \\cos^{2}{\\left(\\omega + \\theta \\right)} - 6 \\beta \\dot{x} x^{2} + 12 \\beta \\dot{x} x \\cos{\\left(\\omega + \\theta \\right)} - 6 \\beta \\dot{x} \\cos^{2}{\\left(\\omega + \\theta \\right)} - 3 \\beta \\dot{y} x + 3 \\beta \\dot{y} \\cos{\\left(\\omega + \\theta \\right)}\\\\- \\alpha x^{2} + 2 \\alpha x \\cos{\\left(\\omega + \\theta \\right)} - \\alpha y + \\alpha \\sin{\\left(\\omega + \\theta \\right)} - \\alpha \\cos^{2}{\\left(\\omega + \\theta \\right)} - 3 \\beta \\dot{\\omega} x \\sin{\\left(\\omega + \\theta \\right)} + 3 \\beta \\dot{\\omega} \\sin{\\left(\\omega + \\theta \\right)} \\cos{\\left(\\omega + \\theta \\right)} + \\frac{3 \\beta \\dot{\\omega} \\cos{\\left(\\omega + \\theta \\right)}}{2} - 3 \\beta \\dot{x} x + 3 \\beta \\dot{x} \\cos{\\left(\\omega + \\theta \\right)} - \\frac{3 \\beta \\dot{y}}{2} - g\\\\- 2 \\alpha x^{3} \\sin{\\left(\\omega + \\theta \\right)} + 6 \\alpha x^{2} \\sin{\\left(\\omega + \\theta \\right)} \\cos{\\left(\\omega + \\theta \\right)} + \\alpha x^{2} \\cos{\\left(\\omega + \\theta \\right)} - 2 \\alpha x y \\sin{\\left(\\omega + \\theta \\right)} + 2 \\alpha x \\sin^{2}{\\left(\\omega + \\theta \\right)} - 6 \\alpha x \\sin{\\left(\\omega + \\theta \\right)} \\cos^{2}{\\left(\\omega + \\theta \\right)} - 2 \\alpha x \\cos^{2}{\\left(\\omega + \\theta \\right)} + 2 \\alpha y \\sin{\\left(\\omega + \\theta \\right)} \\cos{\\left(\\omega + \\theta \\right)} + \\alpha y \\cos{\\left(\\omega + \\theta \\right)} - 2 \\alpha \\sin^{2}{\\left(\\omega + \\theta \\right)} \\cos{\\left(\\omega + \\theta \\right)} + 2 \\alpha \\sin{\\left(\\omega + \\theta \\right)} \\cos^{3}{\\left(\\omega + \\theta \\right)} - \\alpha \\sin{\\left(\\omega + \\theta \\right)} \\cos{\\left(\\omega + \\theta \\right)} + \\alpha \\cos^{3}{\\left(\\omega + \\theta \\right)} - 6 \\beta \\dot{\\omega} x^{2} \\sin^{2}{\\left(\\omega + \\theta \\right)} + 12 \\beta \\dot{\\omega} x \\sin^{2}{\\left(\\omega + \\theta \\right)} \\cos{\\left(\\omega + \\theta \\right)} + 6 \\beta \\dot{\\omega} x \\sin{\\left(\\omega + \\theta \\right)} \\cos{\\left(\\omega + \\theta \\right)} - 6 \\beta \\dot{\\omega} \\sin^{2}{\\left(\\omega + \\theta \\right)} \\cos^{2}{\\left(\\omega + \\theta \\right)} - 6 \\beta \\dot{\\omega} \\sin{\\left(\\omega + \\theta \\right)} \\cos^{2}{\\left(\\omega + \\theta \\right)} - \\frac{3 \\beta \\dot{\\omega} \\cos^{2}{\\left(\\omega + \\theta \\right)}}{2} - 6 \\beta \\dot{x} x^{2} \\sin{\\left(\\omega + \\theta \\right)} + 12 \\beta \\dot{x} x \\sin{\\left(\\omega + \\theta \\right)} \\cos{\\left(\\omega + \\theta \\right)} + 3 \\beta \\dot{x} x \\cos{\\left(\\omega + \\theta \\right)} - 6 \\beta \\dot{x} \\sin{\\left(\\omega + \\theta \\right)} \\cos^{2}{\\left(\\omega + \\theta \\right)} - 3 \\beta \\dot{x} \\cos^{2}{\\left(\\omega + \\theta \\right)} - 3 \\beta \\dot{y} x \\sin{\\left(\\omega + \\theta \\right)} + 3 \\beta \\dot{y} \\sin{\\left(\\omega + \\theta \\right)} \\cos{\\left(\\omega + \\theta \\right)} + \\frac{3 \\beta \\dot{y} \\cos{\\left(\\omega + \\theta \\right)}}{2}\\end{matrix}\\right]$"
      ],
      "text/plain": [
       "⎡                                                                             \n",
       "⎢                                                                             \n",
       "⎢                                                                             \n",
       "⎢                                                                             \n",
       "⎢                                                                             \n",
       "⎢                                                                             \n",
       "⎢                                                                             \n",
       "⎢                                                                             \n",
       "⎢                                                                             \n",
       "⎢                                                                             \n",
       "⎢                                                                             \n",
       "⎢                                                                             \n",
       "⎢                                                                             \n",
       "⎢                                                                             \n",
       "⎢            3                                  2                             \n",
       "⎢- 2⋅\\alpha⋅x ⋅sin(\\omega + \\theta) + 6⋅\\alpha⋅x ⋅sin(\\omega + \\theta)⋅cos(\\om\n",
       "⎣                                                                             \n",
       "\n",
       "                                                                              \n",
       "                                                                              \n",
       "                                                                              \n",
       "                                                                              \n",
       "                                                                              \n",
       "                                                                              \n",
       "                                                                              \n",
       "                                                                              \n",
       "                                                                              \n",
       "                                                                              \n",
       "                                                                              \n",
       "                                                                              \n",
       "                                                                              \n",
       "                                                                              \n",
       "                        2                                                     \n",
       "ega + \\theta) + \\alpha⋅x ⋅cos(\\omega + \\theta) - 2⋅\\alpha⋅x⋅y⋅sin(\\omega + \\th\n",
       "                                                                              \n",
       "\n",
       "                                                                              \n",
       "                                                                              \n",
       "                                                                              \n",
       "                                                                              \n",
       "                                                                              \n",
       "                                                                              \n",
       "                                                                              \n",
       "                                                                              \n",
       "                                                                              \n",
       "                                                                              \n",
       "                                                                              \n",
       "                                                                              \n",
       "                                                                              \n",
       "                                                                              \n",
       "                     2                                                       2\n",
       "eta) + 2⋅\\alpha⋅x⋅sin (\\omega + \\theta) - 6⋅\\alpha⋅x⋅sin(\\omega + \\theta)⋅cos \n",
       "                                                                              \n",
       "\n",
       "                                                                              \n",
       "                                                                              \n",
       "                                                                              \n",
       "                                                                              \n",
       "                                                                              \n",
       "                                                                              \n",
       "                                                                              \n",
       "                                                                              \n",
       "                                                                              \n",
       "                                                                              \n",
       "                                                                              \n",
       "                                                                              \n",
       "                                                                              \n",
       "                                                                              \n",
       "                                  2                                           \n",
       "(\\omega + \\theta) - 2⋅\\alpha⋅x⋅cos (\\omega + \\theta) + 2⋅\\alpha⋅y⋅sin(\\omega +\n",
       "                                                                              \n",
       "\n",
       "                                                                              \n",
       "                                                                              \n",
       "                                                                              \n",
       "                                                                              \n",
       "                                                                              \n",
       "                                                                              \n",
       "             3             2                                                  \n",
       " - 2⋅\\alpha⋅x  + 6⋅\\alpha⋅x ⋅cos(\\omega + \\theta) - 2⋅\\alpha⋅x⋅y + 2⋅\\alpha⋅x⋅\n",
       "                                                                              \n",
       "                                                                              \n",
       "                                                                              \n",
       "                                                                              \n",
       "                                                                              \n",
       "                                                                              \n",
       "                                                                            2 \n",
       " \\theta)⋅cos(\\omega + \\theta) + \\alpha⋅y⋅cos(\\omega + \\theta) - 2⋅\\alpha⋅sin (\n",
       "                                                                              \n",
       "\n",
       "                                                                              \n",
       "                                                                              \n",
       "                                                                              \n",
       "                                                                              \n",
       "                                                                              \n",
       "                                                                              \n",
       "                                     2                                        \n",
       "sin(\\omega + \\theta) - 6⋅\\alpha⋅x⋅cos (\\omega + \\theta) + 2⋅\\alpha⋅y⋅cos(\\omeg\n",
       "                                                                              \n",
       "                                                                              \n",
       "                                                                              \n",
       "                                                                              \n",
       "                                                                              \n",
       "                                                                              \n",
       "                                                                         3    \n",
       "\\omega + \\theta)⋅cos(\\omega + \\theta) + 2⋅\\alpha⋅sin(\\omega + \\theta)⋅cos (\\om\n",
       "                                                                              \n",
       "\n",
       "                                                                              \n",
       "                                                                              \n",
       "                                                                              \n",
       "                                                                              \n",
       "                                                                              \n",
       "                                                                              \n",
       "                                                                              \n",
       "a + \\theta) - 2⋅\\alpha⋅sin(\\omega + \\theta)⋅cos(\\omega + \\theta) + 2⋅\\alpha⋅co\n",
       "                                                                              \n",
       "                      2                                                       \n",
       "            - \\alpha⋅x  + 2⋅\\alpha⋅x⋅cos(\\omega + \\theta) - \\alpha⋅y + \\alpha⋅\n",
       "                                                                              \n",
       "                                                                              \n",
       "                                                                              \n",
       "                                                                             3\n",
       "ega + \\theta) - \\alpha⋅sin(\\omega + \\theta)⋅cos(\\omega + \\theta) + \\alpha⋅cos \n",
       "                                                                              \n",
       "\n",
       "                                                                              \n",
       "                                                                              \n",
       "                                                                              \n",
       "                                                                              \n",
       "                                                                              \n",
       "                                                                              \n",
       " 3                                          2                                 \n",
       "s (\\omega + \\theta) - 6⋅\\beta⋅\\dot{\\omega}⋅x ⋅sin(\\omega + \\theta) + 12⋅\\beta⋅\n",
       "                                                                              \n",
       "                                 2                                            \n",
       "sin(\\omega + \\theta) - \\alpha⋅cos (\\omega + \\theta) - 3⋅\\beta⋅\\dot{\\omega}⋅x⋅s\n",
       "                                                                              \n",
       "                                                                              \n",
       "                                                                              \n",
       "                                          2    2                              \n",
       "(\\omega + \\theta) - 6⋅\\beta⋅\\dot{\\omega}⋅x ⋅sin (\\omega + \\theta) + 12⋅\\beta⋅\\\n",
       "                                                                              \n",
       "\n",
       "                             \\dot{x}                                          \n",
       "                                                                              \n",
       "                             \\dot{y}                                          \n",
       "                                                                              \n",
       "                          \\dot{\\omega}                                        \n",
       "                                                                              \n",
       "                                                                              \n",
       "\\dot{\\omega}⋅x⋅sin(\\omega + \\theta)⋅cos(\\omega + \\theta) + 3⋅\\beta⋅\\dot{\\omega\n",
       "                                                                              \n",
       "                                                                              \n",
       "in(\\omega + \\theta) + 3⋅\\beta⋅\\dot{\\omega}⋅sin(\\omega + \\theta)⋅cos(\\omega + \\\n",
       "                                                                              \n",
       "                                                                              \n",
       "                                                                              \n",
       "                 2                                                            \n",
       "dot{\\omega}⋅x⋅sin (\\omega + \\theta)⋅cos(\\omega + \\theta) + 6⋅\\beta⋅\\dot{\\omega\n",
       "                                                                              \n",
       "\n",
       "                                                                              \n",
       "                                                                              \n",
       "                                                                              \n",
       "                                                                              \n",
       "                                                                              \n",
       "                                                                              \n",
       "                                                                        2     \n",
       "}⋅x⋅cos(\\omega + \\theta) - 6⋅\\beta⋅\\dot{\\omega}⋅sin(\\omega + \\theta)⋅cos (\\ome\n",
       "                                                                              \n",
       "         3⋅\\beta⋅\\dot{\\omega}⋅cos(\\omega + \\theta)                            \n",
       "theta) + ───────────────────────────────────────── - 3⋅\\beta⋅\\dot{x}⋅x + 3⋅\\be\n",
       "                             2                                                \n",
       "                                                                              \n",
       "                                                                              \n",
       "                                                                        2     \n",
       "}⋅x⋅sin(\\omega + \\theta)⋅cos(\\omega + \\theta) - 6⋅\\beta⋅\\dot{\\omega}⋅sin (\\ome\n",
       "                                                                              \n",
       "\n",
       "                                                                              \n",
       "                                                                              \n",
       "                                                                              \n",
       "                                                                              \n",
       "                                                                              \n",
       "                                                                              \n",
       "                                       2                                     2\n",
       "ga + \\theta) - 3⋅\\beta⋅\\dot{\\omega}⋅cos (\\omega + \\theta) - 6⋅\\beta⋅\\dot{x}⋅x \n",
       "                                                                              \n",
       "                                  3⋅\\beta⋅\\dot{y}                             \n",
       "ta⋅\\dot{x}⋅cos(\\omega + \\theta) - ─────────────── - g                         \n",
       "                                         2                                    \n",
       "                                                                              \n",
       "                                                                              \n",
       "                2                                                             \n",
       "ga + \\theta)⋅cos (\\omega + \\theta) - 6⋅\\beta⋅\\dot{\\omega}⋅sin(\\omega + \\theta)\n",
       "                                                                              \n",
       "\n",
       "                                                                              \n",
       "                                                                              \n",
       "                                                                              \n",
       "                                                                              \n",
       "                                                                              \n",
       "                                                                              \n",
       "                                                                2             \n",
       " + 12⋅\\beta⋅\\dot{x}⋅x⋅cos(\\omega + \\theta) - 6⋅\\beta⋅\\dot{x}⋅cos (\\omega + \\th\n",
       "                                                                              \n",
       "                                                                              \n",
       "                                                                              \n",
       "                                                                              \n",
       "                                                                              \n",
       "                                                 2                            \n",
       "    2                    3⋅\\beta⋅\\dot{\\omega}⋅cos (\\omega + \\theta)           \n",
       "⋅cos (\\omega + \\theta) - ────────────────────────────────────────── - 6⋅\\beta⋅\n",
       "                                             2                                \n",
       "\n",
       "                                                                              \n",
       "                                                                              \n",
       "                                                                              \n",
       "                                                                              \n",
       "                                                                              \n",
       "                                                                              \n",
       "                                                                              \n",
       "eta) - 3⋅\\beta⋅\\dot{y}⋅x + 3⋅\\beta⋅\\dot{y}⋅cos(\\omega + \\theta)               \n",
       "                                                                              \n",
       "                                                                              \n",
       "                                                                              \n",
       "                                                                              \n",
       "                                                                              \n",
       "                                                                              \n",
       "         2                                                                    \n",
       "\\dot{x}⋅x ⋅sin(\\omega + \\theta) + 12⋅\\beta⋅\\dot{x}⋅x⋅sin(\\omega + \\theta)⋅cos(\n",
       "                                                                              \n",
       "\n",
       "                                                                              \n",
       "                                                                              \n",
       "                                                                              \n",
       "                                                                              \n",
       "                                                                              \n",
       "                                                                              \n",
       "                                                                              \n",
       "                                                                              \n",
       "                                                                              \n",
       "                                                                              \n",
       "                                                                              \n",
       "                                                                              \n",
       "                                                                              \n",
       "                                                                              \n",
       "                                                                              \n",
       "\\omega + \\theta) + 3⋅\\beta⋅\\dot{x}⋅x⋅cos(\\omega + \\theta) - 6⋅\\beta⋅\\dot{x}⋅si\n",
       "                                                                              \n",
       "\n",
       "                                                                              \n",
       "                                                                              \n",
       "                                                                              \n",
       "                                                                              \n",
       "                                                                              \n",
       "                                                                              \n",
       "                                                                              \n",
       "                                                                              \n",
       "                                                                              \n",
       "                                                                              \n",
       "                                                                              \n",
       "                                                                              \n",
       "                                                                              \n",
       "                                                                              \n",
       "                      2                                       2               \n",
       "n(\\omega + \\theta)⋅cos (\\omega + \\theta) - 3⋅\\beta⋅\\dot{x}⋅cos (\\omega + \\thet\n",
       "                                                                              \n",
       "\n",
       "                                                                              \n",
       "                                                                              \n",
       "                                                                              \n",
       "                                                                              \n",
       "                                                                              \n",
       "                                                                              \n",
       "                                                                              \n",
       "                                                                              \n",
       "                                                                              \n",
       "                                                                              \n",
       "                                                                              \n",
       "                                                                              \n",
       "                                                                              \n",
       "                                                                              \n",
       "                                                                              \n",
       "a) - 3⋅\\beta⋅\\dot{y}⋅x⋅sin(\\omega + \\theta) + 3⋅\\beta⋅\\dot{y}⋅sin(\\omega + \\th\n",
       "                                                                              \n",
       "\n",
       "                                                                ⎤\n",
       "                                                                ⎥\n",
       "                                                                ⎥\n",
       "                                                                ⎥\n",
       "                                                                ⎥\n",
       "                                                                ⎥\n",
       "                                                                ⎥\n",
       "                                                                ⎥\n",
       "                                                                ⎥\n",
       "                                                                ⎥\n",
       "                                                                ⎥\n",
       "                                                                ⎥\n",
       "                                                                ⎥\n",
       "                                                                ⎥\n",
       "                            3⋅\\beta⋅\\dot{y}⋅cos(\\omega + \\theta)⎥\n",
       "eta)⋅cos(\\omega + \\theta) + ────────────────────────────────────⎥\n",
       "                                             2                  ⎦"
      ]
     },
     "execution_count": 62,
     "metadata": {},
     "output_type": "execute_result"
    }
   ],
   "source": [
    "F[(-1,+1)]"
   ]
  },
  {
   "cell_type": "code",
   "execution_count": 63,
   "metadata": {
    "id": "e68Xdj5-xvGg"
   },
   "outputs": [
    {
     "data": {
      "text/latex": [
       "$\\displaystyle \\left[\\begin{matrix}\\dot{x}\\\\\\dot{y}\\\\\\dot{\\omega}\\\\- 4 \\alpha x^{3} - 6 \\alpha x^{2} \\cos{\\left(\\omega - \\theta \\right)} + 6 \\alpha x^{2} \\cos{\\left(\\omega + \\theta \\right)} - 4 \\alpha x y - 2 \\alpha x \\sin{\\left(\\omega - \\theta \\right)} + 2 \\alpha x \\sin{\\left(\\omega + \\theta \\right)} - 6 \\alpha x \\cos^{2}{\\left(\\omega - \\theta \\right)} - 6 \\alpha x \\cos^{2}{\\left(\\omega + \\theta \\right)} - 2 \\alpha y \\cos{\\left(\\omega - \\theta \\right)} + 2 \\alpha y \\cos{\\left(\\omega + \\theta \\right)} - 2 \\alpha \\sin{\\left(\\omega - \\theta \\right)} \\cos{\\left(\\omega - \\theta \\right)} - 2 \\alpha \\sin{\\left(\\omega + \\theta \\right)} \\cos{\\left(\\omega + \\theta \\right)} - 2 \\alpha \\cos^{3}{\\left(\\omega - \\theta \\right)} + 2 \\alpha \\cos^{3}{\\left(\\omega + \\theta \\right)} + 4 \\beta \\dot{\\omega} x^{2} \\sin{\\left(\\omega - \\theta \\right)} - 4 \\beta \\dot{\\omega} x^{2} \\sin{\\left(\\omega + \\theta \\right)} + 8 \\beta \\dot{\\omega} x \\sin{\\left(\\omega - \\theta \\right)} \\cos{\\left(\\omega - \\theta \\right)} + 8 \\beta \\dot{\\omega} x \\sin{\\left(\\omega + \\theta \\right)} \\cos{\\left(\\omega + \\theta \\right)} - 2 \\beta \\dot{\\omega} x \\cos{\\left(\\omega - \\theta \\right)} + 2 \\beta \\dot{\\omega} x \\cos{\\left(\\omega + \\theta \\right)} + 4 \\beta \\dot{\\omega} \\sin{\\left(\\omega - \\theta \\right)} \\cos^{2}{\\left(\\omega - \\theta \\right)} - 4 \\beta \\dot{\\omega} \\sin{\\left(\\omega + \\theta \\right)} \\cos^{2}{\\left(\\omega + \\theta \\right)} - 2 \\beta \\dot{\\omega} \\cos^{2}{\\left(\\omega - \\theta \\right)} - 2 \\beta \\dot{\\omega} \\cos^{2}{\\left(\\omega + \\theta \\right)} - 8 \\beta \\dot{x} x^{2} - 8 \\beta \\dot{x} x \\cos{\\left(\\omega - \\theta \\right)} + 8 \\beta \\dot{x} x \\cos{\\left(\\omega + \\theta \\right)} - 4 \\beta \\dot{x} \\cos^{2}{\\left(\\omega - \\theta \\right)} - 4 \\beta \\dot{x} \\cos^{2}{\\left(\\omega + \\theta \\right)} - 4 \\beta \\dot{y} x - 2 \\beta \\dot{y} \\cos{\\left(\\omega - \\theta \\right)} + 2 \\beta \\dot{y} \\cos{\\left(\\omega + \\theta \\right)}\\\\- 2 \\alpha x^{2} - 2 \\alpha x \\cos{\\left(\\omega - \\theta \\right)} + 2 \\alpha x \\cos{\\left(\\omega + \\theta \\right)} - 2 \\alpha y - \\alpha \\sin{\\left(\\omega - \\theta \\right)} + \\alpha \\sin{\\left(\\omega + \\theta \\right)} - \\alpha \\cos^{2}{\\left(\\omega - \\theta \\right)} - \\alpha \\cos^{2}{\\left(\\omega + \\theta \\right)} + 2 \\beta \\dot{\\omega} x \\sin{\\left(\\omega - \\theta \\right)} - 2 \\beta \\dot{\\omega} x \\sin{\\left(\\omega + \\theta \\right)} + 2 \\beta \\dot{\\omega} \\sin{\\left(\\omega - \\theta \\right)} \\cos{\\left(\\omega - \\theta \\right)} + 2 \\beta \\dot{\\omega} \\sin{\\left(\\omega + \\theta \\right)} \\cos{\\left(\\omega + \\theta \\right)} - \\beta \\dot{\\omega} \\cos{\\left(\\omega - \\theta \\right)} + \\beta \\dot{\\omega} \\cos{\\left(\\omega + \\theta \\right)} - 4 \\beta \\dot{x} x - 2 \\beta \\dot{x} \\cos{\\left(\\omega - \\theta \\right)} + 2 \\beta \\dot{x} \\cos{\\left(\\omega + \\theta \\right)} - 2 \\beta \\dot{y} - g\\\\2 \\alpha x^{3} \\sin{\\left(\\omega - \\theta \\right)} - 2 \\alpha x^{3} \\sin{\\left(\\omega + \\theta \\right)} + 6 \\alpha x^{2} \\sin{\\left(\\omega - \\theta \\right)} \\cos{\\left(\\omega - \\theta \\right)} + 6 \\alpha x^{2} \\sin{\\left(\\omega + \\theta \\right)} \\cos{\\left(\\omega + \\theta \\right)} - \\alpha x^{2} \\cos{\\left(\\omega - \\theta \\right)} + \\alpha x^{2} \\cos{\\left(\\omega + \\theta \\right)} + 2 \\alpha x y \\sin{\\left(\\omega - \\theta \\right)} - 2 \\alpha x y \\sin{\\left(\\omega + \\theta \\right)} + 2 \\alpha x \\sin^{2}{\\left(\\omega - \\theta \\right)} + 6 \\alpha x \\sin{\\left(\\omega - \\theta \\right)} \\cos^{2}{\\left(\\omega - \\theta \\right)} + 2 \\alpha x \\sin^{2}{\\left(\\omega + \\theta \\right)} - 6 \\alpha x \\sin{\\left(\\omega + \\theta \\right)} \\cos^{2}{\\left(\\omega + \\theta \\right)} - 2 \\alpha x \\cos^{2}{\\left(\\omega - \\theta \\right)} - 2 \\alpha x \\cos^{2}{\\left(\\omega + \\theta \\right)} + 2 \\alpha y \\sin{\\left(\\omega - \\theta \\right)} \\cos{\\left(\\omega - \\theta \\right)} + 2 \\alpha y \\sin{\\left(\\omega + \\theta \\right)} \\cos{\\left(\\omega + \\theta \\right)} - \\alpha y \\cos{\\left(\\omega - \\theta \\right)} + \\alpha y \\cos{\\left(\\omega + \\theta \\right)} + 2 \\alpha \\sin^{2}{\\left(\\omega - \\theta \\right)} \\cos{\\left(\\omega - \\theta \\right)} + 2 \\alpha \\sin{\\left(\\omega - \\theta \\right)} \\cos^{3}{\\left(\\omega - \\theta \\right)} - \\alpha \\sin{\\left(\\omega - \\theta \\right)} \\cos{\\left(\\omega - \\theta \\right)} - 2 \\alpha \\sin^{2}{\\left(\\omega + \\theta \\right)} \\cos{\\left(\\omega + \\theta \\right)} + 2 \\alpha \\sin{\\left(\\omega + \\theta \\right)} \\cos^{3}{\\left(\\omega + \\theta \\right)} - \\alpha \\sin{\\left(\\omega + \\theta \\right)} \\cos{\\left(\\omega + \\theta \\right)} - \\alpha \\cos^{3}{\\left(\\omega - \\theta \\right)} + \\alpha \\cos^{3}{\\left(\\omega + \\theta \\right)} - 4 \\beta \\dot{\\omega} x^{2} \\sin^{2}{\\left(\\omega - \\theta \\right)} - 4 \\beta \\dot{\\omega} x^{2} \\sin^{2}{\\left(\\omega + \\theta \\right)} - 8 \\beta \\dot{\\omega} x \\sin^{2}{\\left(\\omega - \\theta \\right)} \\cos{\\left(\\omega - \\theta \\right)} + 4 \\beta \\dot{\\omega} x \\sin{\\left(\\omega - \\theta \\right)} \\cos{\\left(\\omega - \\theta \\right)} + 8 \\beta \\dot{\\omega} x \\sin^{2}{\\left(\\omega + \\theta \\right)} \\cos{\\left(\\omega + \\theta \\right)} + 4 \\beta \\dot{\\omega} x \\sin{\\left(\\omega + \\theta \\right)} \\cos{\\left(\\omega + \\theta \\right)} - 4 \\beta \\dot{\\omega} \\sin^{2}{\\left(\\omega - \\theta \\right)} \\cos^{2}{\\left(\\omega - \\theta \\right)} + 4 \\beta \\dot{\\omega} \\sin{\\left(\\omega - \\theta \\right)} \\cos^{2}{\\left(\\omega - \\theta \\right)} - 4 \\beta \\dot{\\omega} \\sin^{2}{\\left(\\omega + \\theta \\right)} \\cos^{2}{\\left(\\omega + \\theta \\right)} - 4 \\beta \\dot{\\omega} \\sin{\\left(\\omega + \\theta \\right)} \\cos^{2}{\\left(\\omega + \\theta \\right)} - \\beta \\dot{\\omega} \\cos^{2}{\\left(\\omega - \\theta \\right)} - \\beta \\dot{\\omega} \\cos^{2}{\\left(\\omega + \\theta \\right)} + 4 \\beta \\dot{x} x^{2} \\sin{\\left(\\omega - \\theta \\right)} - 4 \\beta \\dot{x} x^{2} \\sin{\\left(\\omega + \\theta \\right)} + 8 \\beta \\dot{x} x \\sin{\\left(\\omega - \\theta \\right)} \\cos{\\left(\\omega - \\theta \\right)} + 8 \\beta \\dot{x} x \\sin{\\left(\\omega + \\theta \\right)} \\cos{\\left(\\omega + \\theta \\right)} - 2 \\beta \\dot{x} x \\cos{\\left(\\omega - \\theta \\right)} + 2 \\beta \\dot{x} x \\cos{\\left(\\omega + \\theta \\right)} + 4 \\beta \\dot{x} \\sin{\\left(\\omega - \\theta \\right)} \\cos^{2}{\\left(\\omega - \\theta \\right)} - 4 \\beta \\dot{x} \\sin{\\left(\\omega + \\theta \\right)} \\cos^{2}{\\left(\\omega + \\theta \\right)} - 2 \\beta \\dot{x} \\cos^{2}{\\left(\\omega - \\theta \\right)} - 2 \\beta \\dot{x} \\cos^{2}{\\left(\\omega + \\theta \\right)} + 2 \\beta \\dot{y} x \\sin{\\left(\\omega - \\theta \\right)} - 2 \\beta \\dot{y} x \\sin{\\left(\\omega + \\theta \\right)} + 2 \\beta \\dot{y} \\sin{\\left(\\omega - \\theta \\right)} \\cos{\\left(\\omega - \\theta \\right)} + 2 \\beta \\dot{y} \\sin{\\left(\\omega + \\theta \\right)} \\cos{\\left(\\omega + \\theta \\right)} - \\beta \\dot{y} \\cos{\\left(\\omega - \\theta \\right)} + \\beta \\dot{y} \\cos{\\left(\\omega + \\theta \\right)}\\end{matrix}\\right]$"
      ],
      "text/plain": [
       "⎡                                                                             \n",
       "⎢                                                                             \n",
       "⎢                                                                             \n",
       "⎢                                                                             \n",
       "⎢                                                                             \n",
       "⎢                                                                             \n",
       "⎢                                                                             \n",
       "⎢                                                                             \n",
       "⎢                                                                             \n",
       "⎢                                                                             \n",
       "⎢                                                                             \n",
       "⎢                                                                             \n",
       "⎢          3                                  3                               \n",
       "⎣2⋅\\alpha⋅x ⋅sin(\\omega - \\theta) - 2⋅\\alpha⋅x ⋅sin(\\omega + \\theta) + 6⋅\\alph\n",
       "\n",
       "                                                                              \n",
       "                                                                              \n",
       "                                                                              \n",
       "                                                                              \n",
       "                                                                              \n",
       "                                                                              \n",
       "                                                                              \n",
       "                                                                              \n",
       "                                                                              \n",
       "                                                                              \n",
       "                                                                              \n",
       "                                                                              \n",
       "   2                                                       2                  \n",
       "a⋅x ⋅sin(\\omega - \\theta)⋅cos(\\omega - \\theta) + 6⋅\\alpha⋅x ⋅sin(\\omega + \\the\n",
       "\n",
       "                                                                              \n",
       "                                                                              \n",
       "                                                                              \n",
       "                                                                              \n",
       "                                                                              \n",
       "                                                                              \n",
       "                                                                              \n",
       "                                                                              \n",
       "                                                                              \n",
       "                                                                              \n",
       "                                                                              \n",
       "                                                                              \n",
       "                                   2                                2         \n",
       "ta)⋅cos(\\omega + \\theta) - \\alpha⋅x ⋅cos(\\omega - \\theta) + \\alpha⋅x ⋅cos(\\ome\n",
       "\n",
       "                                                                              \n",
       "                                                                              \n",
       "                                                                              \n",
       "                                                                              \n",
       "                                                                              \n",
       "                                                                              \n",
       "                                                                              \n",
       "                                                                              \n",
       "                                                                              \n",
       "                                                                              \n",
       "                                                                              \n",
       "                                                                              \n",
       "                                                                              \n",
       "ga + \\theta) + 2⋅\\alpha⋅x⋅y⋅sin(\\omega - \\theta) - 2⋅\\alpha⋅x⋅y⋅sin(\\omega + \\\n",
       "\n",
       "                                                                              \n",
       "                                                                              \n",
       "                                                                              \n",
       "                                                                              \n",
       "                                                                              \n",
       "                                                                              \n",
       "                                                                              \n",
       "                                                                              \n",
       "                                                                              \n",
       "                                                                              \n",
       "                                                                              \n",
       "                                                                              \n",
       "                       2                                                      \n",
       "theta) + 2⋅\\alpha⋅x⋅sin (\\omega - \\theta) + 6⋅\\alpha⋅x⋅sin(\\omega - \\theta)⋅co\n",
       "\n",
       "                                                                              \n",
       "                                                                              \n",
       "                                                                              \n",
       "                                                                              \n",
       "                                                                              \n",
       "                                                                              \n",
       "                                                                              \n",
       "                                                                              \n",
       "                                                                              \n",
       "                                                                              \n",
       "                                                                              \n",
       "                                                                              \n",
       " 2                                  2                                         \n",
       "s (\\omega - \\theta) + 2⋅\\alpha⋅x⋅sin (\\omega + \\theta) - 6⋅\\alpha⋅x⋅sin(\\omega\n",
       "\n",
       "                                                                              \n",
       "                                                                              \n",
       "                                                                              \n",
       "                                                                              \n",
       "                                                                              \n",
       "                                                                              \n",
       "                                                                              \n",
       "                                                                              \n",
       "                                                                              \n",
       "                                                                              \n",
       "                                                                              \n",
       "                                                                              \n",
       "              2                                  2                            \n",
       " + \\theta)⋅cos (\\omega + \\theta) - 2⋅\\alpha⋅x⋅cos (\\omega - \\theta) - 2⋅\\alpha\n",
       "\n",
       "                                                                              \n",
       "                                                                              \n",
       "                                                                              \n",
       "                                                                              \n",
       "                                                                              \n",
       "                                                                              \n",
       "                                                                              \n",
       "                                                                              \n",
       "                                                                              \n",
       "                                                                              \n",
       "                                                                              \n",
       "                                                                              \n",
       "      2                                                                       \n",
       "⋅x⋅cos (\\omega + \\theta) + 2⋅\\alpha⋅y⋅sin(\\omega - \\theta)⋅cos(\\omega - \\theta\n",
       "\n",
       "                                                                              \n",
       "                                                                              \n",
       "                                                                              \n",
       "                                                                              \n",
       "                                                                              \n",
       "                                                                              \n",
       "                                            3             2                   \n",
       "                                - 4⋅\\alpha⋅x  - 6⋅\\alpha⋅x ⋅cos(\\omega - \\thet\n",
       "                                                                              \n",
       "                                                                              \n",
       "                                                                              \n",
       "                                                                              \n",
       "                                                                              \n",
       ") + 2⋅\\alpha⋅y⋅sin(\\omega + \\theta)⋅cos(\\omega + \\theta) - \\alpha⋅y⋅cos(\\omega\n",
       "\n",
       "                                                                              \n",
       "                                                                              \n",
       "                                                                              \n",
       "                                                                              \n",
       "                                                                              \n",
       "                                                                              \n",
       "               2                                                              \n",
       "a) + 6⋅\\alpha⋅x ⋅cos(\\omega + \\theta) - 4⋅\\alpha⋅x⋅y - 2⋅\\alpha⋅x⋅sin(\\omega -\n",
       "                                                                              \n",
       "                                                                              \n",
       "                                                                              \n",
       "                                                                              \n",
       "                                                         2                    \n",
       " - \\theta) + \\alpha⋅y⋅cos(\\omega + \\theta) + 2⋅\\alpha⋅sin (\\omega - \\theta)⋅co\n",
       "\n",
       "                                                                              \n",
       "                                                                              \n",
       "                                                                              \n",
       "                                                                              \n",
       "                                                                              \n",
       "                                                                              \n",
       "                                                           2                  \n",
       " \\theta) + 2⋅\\alpha⋅x⋅sin(\\omega + \\theta) - 6⋅\\alpha⋅x⋅cos (\\omega - \\theta) \n",
       "                                                                              \n",
       "                                                                              \n",
       "                                                                              \n",
       "                                                                              \n",
       "                                                      3                       \n",
       "s(\\omega - \\theta) + 2⋅\\alpha⋅sin(\\omega - \\theta)⋅cos (\\omega - \\theta) - \\al\n",
       "\n",
       "                                                                              \n",
       "                                                                              \n",
       "                                                                              \n",
       "                                                                              \n",
       "                                                                              \n",
       "                                                                              \n",
       "                2                                                             \n",
       "- 6⋅\\alpha⋅x⋅cos (\\omega + \\theta) - 2⋅\\alpha⋅y⋅cos(\\omega - \\theta) + 2⋅\\alph\n",
       "                                                                              \n",
       "                                                                              \n",
       "                                                                              \n",
       "                                                                              \n",
       "                                                            2                 \n",
       "pha⋅sin(\\omega - \\theta)⋅cos(\\omega - \\theta) - 2⋅\\alpha⋅sin (\\omega + \\theta)\n",
       "\n",
       "                                                                              \n",
       "                                                                              \n",
       "                                                                              \n",
       "                                                                              \n",
       "                                                                              \n",
       "                                                                              \n",
       "                                                                              \n",
       "a⋅y⋅cos(\\omega + \\theta) - 2⋅\\alpha⋅sin(\\omega - \\theta)⋅cos(\\omega - \\theta) \n",
       "                                                                              \n",
       "                                                            2                 \n",
       "                                                - 2⋅\\alpha⋅x  - 2⋅\\alpha⋅x⋅cos\n",
       "                                                                              \n",
       "                                                         3                    \n",
       "⋅cos(\\omega + \\theta) + 2⋅\\alpha⋅sin(\\omega + \\theta)⋅cos (\\omega + \\theta) - \n",
       "\n",
       "                                                                              \n",
       "                                                                              \n",
       "                                                                              \n",
       "                                                                              \n",
       "                                                                              \n",
       "                                                                              \n",
       "                                                                   3          \n",
       "- 2⋅\\alpha⋅sin(\\omega + \\theta)⋅cos(\\omega + \\theta) - 2⋅\\alpha⋅cos (\\omega - \n",
       "                                                                              \n",
       "                                                                              \n",
       "(\\omega - \\theta) + 2⋅\\alpha⋅x⋅cos(\\omega + \\theta) - 2⋅\\alpha⋅y - \\alpha⋅sin(\n",
       "                                                                              \n",
       "                                                             3                \n",
       "\\alpha⋅sin(\\omega + \\theta)⋅cos(\\omega + \\theta) - \\alpha⋅cos (\\omega - \\theta\n",
       "\n",
       "                                                                              \n",
       "                                                                              \n",
       "                                                                              \n",
       "                                                                              \n",
       "                                                                              \n",
       "                                                                              \n",
       "                      3                                          2            \n",
       "\\theta) + 2⋅\\alpha⋅cos (\\omega + \\theta) + 4⋅\\beta⋅\\dot{\\omega}⋅x ⋅sin(\\omega \n",
       "                                                                              \n",
       "                                                           2                  \n",
       "\\omega - \\theta) + \\alpha⋅sin(\\omega + \\theta) - \\alpha⋅cos (\\omega - \\theta) \n",
       "                                                                              \n",
       "              3                                          2    2               \n",
       ") + \\alpha⋅cos (\\omega + \\theta) - 4⋅\\beta⋅\\dot{\\omega}⋅x ⋅sin (\\omega - \\thet\n",
       "\n",
       "                                                                              \n",
       "                                                                              \n",
       "                                                                              \n",
       "                                                                              \n",
       "                                                                              \n",
       "                                                                              \n",
       "                                  2                                           \n",
       "- \\theta) - 4⋅\\beta⋅\\dot{\\omega}⋅x ⋅sin(\\omega + \\theta) + 8⋅\\beta⋅\\dot{\\omega\n",
       "                                                                              \n",
       "            2                                                                 \n",
       "- \\alpha⋅cos (\\omega + \\theta) + 2⋅\\beta⋅\\dot{\\omega}⋅x⋅sin(\\omega - \\theta) -\n",
       "                                                                              \n",
       "                           2    2                                             \n",
       "a) - 4⋅\\beta⋅\\dot{\\omega}⋅x ⋅sin (\\omega + \\theta) - 8⋅\\beta⋅\\dot{\\omega}⋅x⋅si\n",
       "\n",
       "                                                      \\dot{x}                 \n",
       "                                                                              \n",
       "                                                      \\dot{y}                 \n",
       "                                                                              \n",
       "                                                   \\dot{\\omega}               \n",
       "                                                                              \n",
       "                                                                              \n",
       "}⋅x⋅sin(\\omega - \\theta)⋅cos(\\omega - \\theta) + 8⋅\\beta⋅\\dot{\\omega}⋅x⋅sin(\\om\n",
       "                                                                              \n",
       "                                                                              \n",
       " 2⋅\\beta⋅\\dot{\\omega}⋅x⋅sin(\\omega + \\theta) + 2⋅\\beta⋅\\dot{\\omega}⋅sin(\\omega\n",
       "                                                                              \n",
       " 2                                                                            \n",
       "n (\\omega - \\theta)⋅cos(\\omega - \\theta) + 4⋅\\beta⋅\\dot{\\omega}⋅x⋅sin(\\omega -\n",
       "\n",
       "                                                                              \n",
       "                                                                              \n",
       "                                                                              \n",
       "                                                                              \n",
       "                                                                              \n",
       "                                                                              \n",
       "                                                                              \n",
       "ega + \\theta)⋅cos(\\omega + \\theta) - 2⋅\\beta⋅\\dot{\\omega}⋅x⋅cos(\\omega - \\thet\n",
       "                                                                              \n",
       "                                                                              \n",
       " - \\theta)⋅cos(\\omega - \\theta) + 2⋅\\beta⋅\\dot{\\omega}⋅sin(\\omega + \\theta)⋅co\n",
       "                                                                              \n",
       "                                                          2                   \n",
       " \\theta)⋅cos(\\omega - \\theta) + 8⋅\\beta⋅\\dot{\\omega}⋅x⋅sin (\\omega + \\theta)⋅c\n",
       "\n",
       "                                                                              \n",
       "                                                                              \n",
       "                                                                              \n",
       "                                                                              \n",
       "                                                                              \n",
       "                                                                              \n",
       "                                                                              \n",
       "a) + 2⋅\\beta⋅\\dot{\\omega}⋅x⋅cos(\\omega + \\theta) + 4⋅\\beta⋅\\dot{\\omega}⋅sin(\\o\n",
       "                                                                              \n",
       "                                                                              \n",
       "s(\\omega + \\theta) - \\beta⋅\\dot{\\omega}⋅cos(\\omega - \\theta) + \\beta⋅\\dot{\\ome\n",
       "                                                                              \n",
       "                                                                              \n",
       "os(\\omega + \\theta) + 4⋅\\beta⋅\\dot{\\omega}⋅x⋅sin(\\omega + \\theta)⋅cos(\\omega +\n",
       "\n",
       "                                                                              \n",
       "                                                                              \n",
       "                                                                              \n",
       "                                                                              \n",
       "                                                                              \n",
       "                                                                              \n",
       "                  2                                                           \n",
       "mega - \\theta)⋅cos (\\omega - \\theta) - 4⋅\\beta⋅\\dot{\\omega}⋅sin(\\omega + \\thet\n",
       "                                                                              \n",
       "                                                                              \n",
       "ga}⋅cos(\\omega + \\theta) - 4⋅\\beta⋅\\dot{x}⋅x - 2⋅\\beta⋅\\dot{x}⋅cos(\\omega - \\t\n",
       "                                                                              \n",
       "                                   2                     2                    \n",
       " \\theta) - 4⋅\\beta⋅\\dot{\\omega}⋅sin (\\omega - \\theta)⋅cos (\\omega - \\theta) + \n",
       "\n",
       "                                                                              \n",
       "                                                                              \n",
       "                                                                              \n",
       "                                                                              \n",
       "                                                                              \n",
       "                                                                              \n",
       "      2                                            2                          \n",
       "a)⋅cos (\\omega + \\theta) - 2⋅\\beta⋅\\dot{\\omega}⋅cos (\\omega - \\theta) - 2⋅\\bet\n",
       "                                                                              \n",
       "                                                                              \n",
       "heta) + 2⋅\\beta⋅\\dot{x}⋅cos(\\omega + \\theta) - 2⋅\\beta⋅\\dot{y} - g            \n",
       "                                                                              \n",
       "                                             2                                \n",
       "4⋅\\beta⋅\\dot{\\omega}⋅sin(\\omega - \\theta)⋅cos (\\omega - \\theta) - 4⋅\\beta⋅\\dot\n",
       "\n",
       "                                                                              \n",
       "                                                                              \n",
       "                                                                              \n",
       "                                                                              \n",
       "                                                                              \n",
       "                                                                              \n",
       "                  2                                     2                     \n",
       "a⋅\\dot{\\omega}⋅cos (\\omega + \\theta) - 8⋅\\beta⋅\\dot{x}⋅x  - 8⋅\\beta⋅\\dot{x}⋅x⋅\n",
       "                                                                              \n",
       "                                                                              \n",
       "                                                                              \n",
       "                                                                              \n",
       "            2                     2                                           \n",
       "{\\omega}⋅sin (\\omega + \\theta)⋅cos (\\omega + \\theta) - 4⋅\\beta⋅\\dot{\\omega}⋅si\n",
       "\n",
       "                                                                              \n",
       "                                                                              \n",
       "                                                                              \n",
       "                                                                              \n",
       "                                                                              \n",
       "                                                                              \n",
       "                                                                              \n",
       "cos(\\omega - \\theta) + 8⋅\\beta⋅\\dot{x}⋅x⋅cos(\\omega + \\theta) - 4⋅\\beta⋅\\dot{x\n",
       "                                                                              \n",
       "                                                                              \n",
       "                                                                              \n",
       "                                                                              \n",
       "                      2                                          2            \n",
       "n(\\omega + \\theta)⋅cos (\\omega + \\theta) - \\beta⋅\\dot{\\omega}⋅cos (\\omega - \\t\n",
       "\n",
       "                                                                              \n",
       "                                                                              \n",
       "                                                                              \n",
       "                                                                              \n",
       "                                                                              \n",
       "                                                                              \n",
       "     2                                       2                                \n",
       "}⋅cos (\\omega - \\theta) - 4⋅\\beta⋅\\dot{x}⋅cos (\\omega + \\theta) - 4⋅\\beta⋅\\dot\n",
       "                                                                              \n",
       "                                                                              \n",
       "                                                                              \n",
       "                                                                              \n",
       "                              2                                     2         \n",
       "heta) - \\beta⋅\\dot{\\omega}⋅cos (\\omega + \\theta) + 4⋅\\beta⋅\\dot{x}⋅x ⋅sin(\\ome\n",
       "\n",
       "                                                                              \n",
       "                                                                              \n",
       "                                                                              \n",
       "                                                                              \n",
       "                                                                              \n",
       "                                                                              \n",
       "                                                                              \n",
       "{y}⋅x - 2⋅\\beta⋅\\dot{y}⋅cos(\\omega - \\theta) + 2⋅\\beta⋅\\dot{y}⋅cos(\\omega + \\t\n",
       "                                                                              \n",
       "                                                                              \n",
       "                                                                              \n",
       "                                                                              \n",
       "                                2                                             \n",
       "ga - \\theta) - 4⋅\\beta⋅\\dot{x}⋅x ⋅sin(\\omega + \\theta) + 8⋅\\beta⋅\\dot{x}⋅x⋅sin\n",
       "\n",
       "                                                                              \n",
       "                                                                              \n",
       "                                                                              \n",
       "                                                                              \n",
       "                                                                              \n",
       "                                                                              \n",
       "                                                                              \n",
       "heta)                                                                         \n",
       "                                                                              \n",
       "                                                                              \n",
       "                                                                              \n",
       "                                                                              \n",
       "                                                                              \n",
       "(\\omega - \\theta)⋅cos(\\omega - \\theta) + 8⋅\\beta⋅\\dot{x}⋅x⋅sin(\\omega + \\theta\n",
       "\n",
       "                                                                              \n",
       "                                                                              \n",
       "                                                                              \n",
       "                                                                              \n",
       "                                                                              \n",
       "                                                                              \n",
       "                                                                              \n",
       "                                                                              \n",
       "                                                                              \n",
       "                                                                              \n",
       "                                                                              \n",
       "                                                                              \n",
       "                                                                              \n",
       ")⋅cos(\\omega + \\theta) - 2⋅\\beta⋅\\dot{x}⋅x⋅cos(\\omega - \\theta) + 2⋅\\beta⋅\\dot\n",
       "\n",
       "                                                                              \n",
       "                                                                              \n",
       "                                                                              \n",
       "                                                                              \n",
       "                                                                              \n",
       "                                                                              \n",
       "                                                                              \n",
       "                                                                              \n",
       "                                                                              \n",
       "                                                                              \n",
       "                                                                              \n",
       "                                                                              \n",
       "                                                                     2        \n",
       "{x}⋅x⋅cos(\\omega + \\theta) + 4⋅\\beta⋅\\dot{x}⋅sin(\\omega - \\theta)⋅cos (\\omega \n",
       "\n",
       "                                                                              \n",
       "                                                                              \n",
       "                                                                              \n",
       "                                                                              \n",
       "                                                                              \n",
       "                                                                              \n",
       "                                                                              \n",
       "                                                                              \n",
       "                                                                              \n",
       "                                                                              \n",
       "                                                                              \n",
       "                                                                              \n",
       "                                                    2                         \n",
       "- \\theta) - 4⋅\\beta⋅\\dot{x}⋅sin(\\omega + \\theta)⋅cos (\\omega + \\theta) - 2⋅\\be\n",
       "\n",
       "                                                                              \n",
       "                                                                              \n",
       "                                                                              \n",
       "                                                                              \n",
       "                                                                              \n",
       "                                                                              \n",
       "                                                                              \n",
       "                                                                              \n",
       "                                                                              \n",
       "                                                                              \n",
       "                                                                              \n",
       "                                                                              \n",
       "              2                                       2                       \n",
       "ta⋅\\dot{x}⋅cos (\\omega - \\theta) - 2⋅\\beta⋅\\dot{x}⋅cos (\\omega + \\theta) + 2⋅\\\n",
       "\n",
       "                                                                              \n",
       "                                                                              \n",
       "                                                                              \n",
       "                                                                              \n",
       "                                                                              \n",
       "                                                                              \n",
       "                                                                              \n",
       "                                                                              \n",
       "                                                                              \n",
       "                                                                              \n",
       "                                                                              \n",
       "                                                                              \n",
       "                                                                              \n",
       "beta⋅\\dot{y}⋅x⋅sin(\\omega - \\theta) - 2⋅\\beta⋅\\dot{y}⋅x⋅sin(\\omega + \\theta) +\n",
       "\n",
       "                                                                              \n",
       "                                                                              \n",
       "                                                                              \n",
       "                                                                              \n",
       "                                                                              \n",
       "                                                                              \n",
       "                                                                              \n",
       "                                                                              \n",
       "                                                                              \n",
       "                                                                              \n",
       "                                                                              \n",
       "                                                                              \n",
       "                                                                              \n",
       " 2⋅\\beta⋅\\dot{y}⋅sin(\\omega - \\theta)⋅cos(\\omega - \\theta) + 2⋅\\beta⋅\\dot{y}⋅s\n",
       "\n",
       "                                                                              \n",
       "                                                                              \n",
       "                                                                              \n",
       "                                                                              \n",
       "                                                                              \n",
       "                                                                              \n",
       "                                                                              \n",
       "                                                                              \n",
       "                                                                              \n",
       "                                                                              \n",
       "                                                                              \n",
       "                                                                              \n",
       "                                                                              \n",
       "in(\\omega + \\theta)⋅cos(\\omega + \\theta) - \\beta⋅\\dot{y}⋅cos(\\omega - \\theta) \n",
       "\n",
       "                                    ⎤\n",
       "                                    ⎥\n",
       "                                    ⎥\n",
       "                                    ⎥\n",
       "                                    ⎥\n",
       "                                    ⎥\n",
       "                                    ⎥\n",
       "                                    ⎥\n",
       "                                    ⎥\n",
       "                                    ⎥\n",
       "                                    ⎥\n",
       "                                    ⎥\n",
       "                                    ⎥\n",
       "+ \\beta⋅\\dot{y}⋅cos(\\omega + \\theta)⎦"
      ]
     },
     "execution_count": 63,
     "metadata": {},
     "output_type": "execute_result"
    }
   ],
   "source": [
    "F[(+1,+1)]"
   ]
  },
  {
   "cell_type": "markdown",
   "metadata": {
    "id": "zHWoNU1rx_-l"
   },
   "source": [
    "## saltation matrices"
   ]
  },
  {
   "cell_type": "code",
   "execution_count": 64,
   "metadata": {
    "id": "kz6flXZNyRkS"
   },
   "outputs": [],
   "source": [
    "I6 = sym.Matrix.eye(6)"
   ]
  },
  {
   "cell_type": "code",
   "execution_count": 65,
   "metadata": {
    "id": "M26ccXGqyBKP"
   },
   "outputs": [],
   "source": [
    "M12 = ( (I6 + (F[(+1,+1)] - F[(+1,-1)])*Dh[1,:]/Dh[1,:].dot(F[(+1,-1)])) \n",
    "      * (I6 + (F[(+1,-1)] - F[(-1,-1)])*Dh[0,:]/Dh[0,:].dot(F[(-1,-1)])) )"
   ]
  },
  {
   "cell_type": "code",
   "execution_count": null,
   "metadata": {
    "colab": {
     "base_uri": "https://localhost:8080/"
    },
    "id": "Fys7BZO2ypUL",
    "outputId": "9a9353b9-9fe6-45b4-a003-0fe0940b170a"
   },
   "outputs": [],
   "source": [
    "M21 = ( (I6 + (F[(+1,+1)] - F[(-1,+1)])*Dh[0,:]/Dh[0,:].dot(F[(-1,+1)])) \n",
    "      * (I6 + (F[(-1,+1)] - F[(-1,-1)])*Dh[1,:]/Dh[1,:].dot(F[(-1,-1)])) )"
   ]
  },
  {
   "cell_type": "code",
   "execution_count": 66,
   "metadata": {
    "colab": {
     "base_uri": "https://localhost:8080/"
    },
    "id": "Fys7BZO2ypUL",
    "outputId": "9a9353b9-9fe6-45b4-a003-0fe0940b170a"
   },
   "outputs": [
    {
     "name": "stdout",
     "output_type": "stream",
     "text": [
      "Matrix([[-1.4142135623731*(-3*\\dot{y}/2 - y + 0.207106781186547)/\\dot{y} + 1.4142135623731*(-\\dot{y}/2 - y + 0.207106781186547)/\\dot{y}, -(\\dot{y}/2 + y - 0.207106781186547)/\\dot{y} - (3*\\dot{y}/2 + y - 0.207106781186547)/\\dot{y}, -1.70710678118655*(-3*\\dot{y}/2 - y + 0.207106781186547)/\\dot{y} + 1.70710678118655*(-\\dot{y}/2 - y + 0.207106781186547)/\\dot{y}, 0, 1, 0]])\n",
      "Matrix([[1.4142135623731*(-3*\\dot{y}/2 - y + 0.207106781186547)/\\dot{y} - 1.4142135623731*(-\\dot{y}/2 - y + 0.207106781186547)/\\dot{y}, -(\\dot{y}/2 + y - 0.207106781186547)/\\dot{y} - (3*\\dot{y}/2 + y - 0.207106781186547)/\\dot{y}, 1.70710678118655*(-3*\\dot{y}/2 - y + 0.207106781186547)/\\dot{y} - 1.70710678118655*(-\\dot{y}/2 - y + 0.207106781186547)/\\dot{y}, 0, 1, 0]])\n"
     ]
    }
   ],
   "source": [
    "v=M21[-2,:].subs({x:0,w:0,dx:0,dw:0, kappa:1,beta:1, th:np.pi/4})\n",
    "u=M12[-2,:].subs({x:0,w:0,dx:0,dw:0, kappa:1,beta:1, th:np.pi/4})\n",
    "print(v)\n",
    "print(u)"
   ]
  },
  {
   "cell_type": "code",
   "execution_count": null,
   "metadata": {
    "colab": {
     "base_uri": "https://localhost:8080/",
     "height": 139
    },
    "id": "6_iPvObizlDl",
    "outputId": "7c6fe189-9cac-4f66-de24-66623f6c9d66"
   },
   "outputs": [],
   "source": [
    "dM = sym.simplify((M12 - M21).subs({x:0,w:0,dx:0,dw:0}))\n",
    "dM"
   ]
  },
  {
   "cell_type": "code",
   "execution_count": 67,
   "metadata": {
    "colab": {
     "base_uri": "https://localhost:8080/",
     "height": 139
    },
    "id": "6_iPvObizlDl",
    "outputId": "7c6fe189-9cac-4f66-de24-66623f6c9d66"
   },
   "outputs": [
    {
     "data": {
      "text/latex": [
       "$\\displaystyle \\left[\\begin{matrix}0 & 0 & 0 & 0 & 0 & 0\\\\0 & 0 & 0 & 0 & 0 & 0\\\\0 & 0 & 0 & 0 & 0 & 0\\\\0 & 0 & 0 & 0 & 0 & 0\\\\- 4 \\beta \\cos{\\left(\\theta \\right)} & 0 & - 2 \\beta \\left(\\sin{\\left(2 \\theta \\right)} + \\cos{\\left(\\theta \\right)}\\right) & 0 & 0 & 0\\\\0 & 0 & 0 & 0 & 0 & 0\\end{matrix}\\right]$"
      ],
      "text/plain": [
       "⎡         0            0                    0                     0  0  0⎤\n",
       "⎢                                                                        ⎥\n",
       "⎢         0            0                    0                     0  0  0⎥\n",
       "⎢                                                                        ⎥\n",
       "⎢         0            0                    0                     0  0  0⎥\n",
       "⎢                                                                        ⎥\n",
       "⎢         0            0                    0                     0  0  0⎥\n",
       "⎢                                                                        ⎥\n",
       "⎢-4⋅\\beta⋅cos(\\theta)  0  -2⋅\\beta⋅(sin(2⋅\\theta) + cos(\\theta))  0  0  0⎥\n",
       "⎢                                                                        ⎥\n",
       "⎣         0            0                    0                     0  0  0⎦"
      ]
     },
     "execution_count": 67,
     "metadata": {},
     "output_type": "execute_result"
    }
   ],
   "source": [
    "sym.simplify(dM.subs({w:0}))"
   ]
  }
 ],
 "metadata": {
  "colab": {
   "collapsed_sections": [],
   "name": "Copy of salt_20201231.ipynb",
   "provenance": [],
   "toc_visible": true
  },
  "kernelspec": {
   "display_name": "Python 3",
   "language": "python",
   "name": "python3"
  },
  "language_info": {
   "codemirror_mode": {
    "name": "ipython",
    "version": 3
   },
   "file_extension": ".py",
   "mimetype": "text/x-python",
   "name": "python",
   "nbconvert_exporter": "python",
   "pygments_lexer": "ipython3",
   "version": "3.6.8"
  }
 },
 "nbformat": 4,
 "nbformat_minor": 1
}
