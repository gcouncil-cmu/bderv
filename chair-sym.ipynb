{
  "nbformat": 4,
  "nbformat_minor": 0,
  "metadata": {
    "colab": {
      "name": "Copy of salt_20201231.ipynb",
      "provenance": [],
      "collapsed_sections": [],
      "toc_visible": true
    },
    "kernelspec": {
      "name": "python3",
      "display_name": "Python 3"
    }
  },
  "cells": [
    {
      "cell_type": "markdown",
      "metadata": {
        "id": "CXqDxnuVvdHR"
      },
      "source": [
        "# packages"
      ]
    },
    {
      "cell_type": "code",
      "metadata": {
        "id": "naNnMWoyr5zN"
      },
      "source": [
        "import numpy as np\r\n",
        "\r\n",
        "# produce matlab-style plots\r\n",
        "import matplotlib as mpl\r\n",
        "# increase font size on plots\r\n",
        "mpl.rc('font',**{'size':18})\r\n",
        "# use LaTeX to render symbols\r\n",
        "mpl.rc('text',usetex=False)\r\n",
        "# animation\r\n",
        "from matplotlib import animation as ani\r\n",
        "# Matlab-style plotting\r\n",
        "import matplotlib.pyplot as plt\r\n",
        "\r\n",
        "# symbolic computation, i.e. computer algebra (like Mathematica, Wolfram Alpha)\r\n",
        "import sympy as sym"
      ],
      "execution_count": null,
      "outputs": []
    },
    {
      "cell_type": "code",
      "metadata": {
        "colab": {
          "base_uri": "https://localhost:8080/"
        },
        "id": "pz2SEIMFr8Zd",
        "outputId": "1c464922-747a-4d8b-943f-5bc97e325f49"
      },
      "source": [
        "# os = operating system; access OS-level commands\r\n",
        "# e.g. create directory, delete file, execute command\r\n",
        "# (more platform-independent than \"!\")\r\n",
        "import os\r\n",
        "\r\n",
        "# test whether this is a Colaboratory or Jupyter notebook\r\n",
        "try:\r\n",
        "  import google.colab\r\n",
        "  COLAB = True\r\n",
        "  print('Colaboratory Notebook')\r\n",
        "except:\r\n",
        "  COLAB = False\r\n",
        "  print('Jupyter Notebook')\r\n",
        "\r\n",
        "# Colab notebook\r\n",
        "if COLAB:  \r\n",
        "  # render SymPy equations nicely in Colaboratory Notebook\r\n",
        "  def colab_latex_printer(exp,**options):\r\n",
        "    from google.colab.output._publish import javascript\r\n",
        "    url = \"https://cdnjs.cloudflare.com/ajax/libs/mathjax/2.7.3/latest.js?config=default\"\r\n",
        "    javascript(url=url)\r\n",
        "    return sym.printing.latex(exp,**options)\r\n",
        "  \r\n",
        "  sym.init_printing(use_latex=\"mathjax\",latex_printer=colab_latex_printer)\r\n",
        "\r\n",
        "# Jupyter notebook\r\n",
        "else:\r\n",
        "  sym.init_printing(use_latex='mathjax')"
      ],
      "execution_count": null,
      "outputs": [
        {
          "output_type": "stream",
          "text": [
            "Colaboratory Notebook\n"
          ],
          "name": "stdout"
        }
      ]
    },
    {
      "cell_type": "markdown",
      "metadata": {
        "id": "Yyw4RRLAyFLe"
      },
      "source": [
        "# table"
      ]
    },
    {
      "cell_type": "markdown",
      "metadata": {
        "id": "Z_oor_yzvpgA"
      },
      "source": [
        "## variables"
      ]
    },
    {
      "cell_type": "code",
      "metadata": {
        "id": "CqFKYQBLsPmD"
      },
      "source": [
        "m, I, x, y, w, dx, dy, dw, l, g, th, kappa, beta = sym.symbols(\r\n",
        "   r'm, I, x, y, \\omega, \\dot{x}, \\dot{y}, \\dot{\\omega}, \\ell, g, \\theta, \\alpha, \\beta'\r\n",
        "    )"
      ],
      "execution_count": null,
      "outputs": []
    },
    {
      "cell_type": "code",
      "metadata": {
        "colab": {
          "base_uri": "https://localhost:8080/",
          "height": 78
        },
        "id": "RkB-FhZHsxQm",
        "outputId": "615ef41e-9b9c-4617-b9a0-3ff7ef51db9b"
      },
      "source": [
        "q = sym.Matrix([[x,y,w]]).T\r\n",
        "q\r\n"
      ],
      "execution_count": null,
      "outputs": [
        {
          "output_type": "display_data",
          "data": {
            "text/html": [
              "<script src='https://cdnjs.cloudflare.com/ajax/libs/mathjax/2.7.3/latest.js?config=default'></script>"
            ],
            "text/plain": [
              "<IPython.core.display.HTML object>"
            ]
          },
          "metadata": {
            "tags": []
          }
        },
        {
          "output_type": "execute_result",
          "data": {
            "text/latex": "$$\\left[\\begin{matrix}x\\\\y\\\\\\omega\\end{matrix}\\right]$$",
            "text/plain": [
              "⎡  x   ⎤\n",
              "⎢      ⎥\n",
              "⎢  y   ⎥\n",
              "⎢      ⎥\n",
              "⎣\\omega⎦"
            ]
          },
          "metadata": {
            "tags": []
          },
          "execution_count": 4
        }
      ]
    },
    {
      "cell_type": "code",
      "metadata": {
        "colab": {
          "base_uri": "https://localhost:8080/",
          "height": 78
        },
        "id": "MLx07ezgvFjt",
        "outputId": "bfd7897f-0525-4806-a5ba-f1d383057149"
      },
      "source": [
        "dq = sym.Matrix([[dx,dy,dw]]).T\r\n",
        "dq"
      ],
      "execution_count": null,
      "outputs": [
        {
          "output_type": "display_data",
          "data": {
            "text/html": [
              "<script src='https://cdnjs.cloudflare.com/ajax/libs/mathjax/2.7.3/latest.js?config=default'></script>"
            ],
            "text/plain": [
              "<IPython.core.display.HTML object>"
            ]
          },
          "metadata": {
            "tags": []
          }
        },
        {
          "output_type": "execute_result",
          "data": {
            "text/latex": "$$\\left[\\begin{matrix}\\dot{x}\\\\\\dot{y}\\\\\\dot{\\omega}\\end{matrix}\\right]$$",
            "text/plain": [
              "⎡  \\dot{x}   ⎤\n",
              "⎢            ⎥\n",
              "⎢  \\dot{y}   ⎥\n",
              "⎢            ⎥\n",
              "⎣\\dot{\\omega}⎦"
            ]
          },
          "metadata": {
            "tags": []
          },
          "execution_count": 5
        }
      ]
    },
    {
      "cell_type": "code",
      "metadata": {
        "colab": {
          "base_uri": "https://localhost:8080/",
          "height": 78
        },
        "id": "nkM98Bc2tud3",
        "outputId": "03bc59eb-7fb1-4252-e61d-ffd4732150d0"
      },
      "source": [
        "M = sym.Matrix([[1,0,0],[0,1,0],[0,0,1]])\r\n",
        "M"
      ],
      "execution_count": null,
      "outputs": [
        {
          "output_type": "display_data",
          "data": {
            "text/html": [
              "<script src='https://cdnjs.cloudflare.com/ajax/libs/mathjax/2.7.3/latest.js?config=default'></script>"
            ],
            "text/plain": [
              "<IPython.core.display.HTML object>"
            ]
          },
          "metadata": {
            "tags": []
          }
        },
        {
          "output_type": "execute_result",
          "data": {
            "text/latex": "$$\\left[\\begin{matrix}1 & 0 & 0\\\\0 & 1 & 0\\\\0 & 0 & 1\\end{matrix}\\right]$$",
            "text/plain": [
              "⎡1  0  0⎤\n",
              "⎢       ⎥\n",
              "⎢0  1  0⎥\n",
              "⎢       ⎥\n",
              "⎣0  0  1⎦"
            ]
          },
          "metadata": {
            "tags": []
          },
          "execution_count": 6
        }
      ]
    },
    {
      "cell_type": "code",
      "metadata": {
        "colab": {
          "base_uri": "https://localhost:8080/",
          "height": 78
        },
        "id": "OQ89M2ECoAEs",
        "outputId": "594ab5cb-f671-4880-f060-4c9d1421996f"
      },
      "source": [
        "M = sym.Matrix(sym.MatrixSymbol('M',3,3))\r\n",
        "M"
      ],
      "execution_count": null,
      "outputs": [
        {
          "output_type": "display_data",
          "data": {
            "text/html": [
              "<script src='https://cdnjs.cloudflare.com/ajax/libs/mathjax/2.7.3/latest.js?config=default'></script>"
            ],
            "text/plain": [
              "<IPython.core.display.HTML object>"
            ]
          },
          "metadata": {
            "tags": []
          }
        },
        {
          "output_type": "execute_result",
          "data": {
            "text/latex": "$$\\left[\\begin{array}{ccc}M_{0, 0} & M_{0, 1} & M_{0, 2}\\\\M_{1, 0} & M_{1, 1} & M_{1, 2}\\\\M_{2, 0} & M_{2, 1} & M_{2, 2}\\end{array}\\right]$$",
            "text/plain": [
              "⎡M₀₀  M₀₁  M₀₂⎤\n",
              "⎢             ⎥\n",
              "⎢M₁₀  M₁₁  M₁₂⎥\n",
              "⎢             ⎥\n",
              "⎣M₂₀  M₂₁  M₂₂⎦"
            ]
          },
          "metadata": {
            "tags": []
          },
          "execution_count": 7
        }
      ]
    },
    {
      "cell_type": "code",
      "metadata": {
        "colab": {
          "base_uri": "https://localhost:8080/",
          "height": 78
        },
        "id": "478xMihUtwF1",
        "outputId": "01870e1a-aca9-4aa2-a521-36e69a68b5a0"
      },
      "source": [
        "f = sym.Matrix([[0,-g,0]]).T\r\n",
        "f"
      ],
      "execution_count": null,
      "outputs": [
        {
          "output_type": "display_data",
          "data": {
            "text/html": [
              "<script src='https://cdnjs.cloudflare.com/ajax/libs/mathjax/2.7.3/latest.js?config=default'></script>"
            ],
            "text/plain": [
              "<IPython.core.display.HTML object>"
            ]
          },
          "metadata": {
            "tags": []
          }
        },
        {
          "output_type": "execute_result",
          "data": {
            "text/latex": "$$\\left[\\begin{matrix}0\\\\- g\\\\0\\end{matrix}\\right]$$",
            "text/plain": [
              "⎡0 ⎤\n",
              "⎢  ⎥\n",
              "⎢-g⎥\n",
              "⎢  ⎥\n",
              "⎣0 ⎦"
            ]
          },
          "metadata": {
            "tags": []
          },
          "execution_count": 8
        }
      ]
    },
    {
      "cell_type": "markdown",
      "metadata": {
        "id": "ozAf26P4t_rG"
      },
      "source": [
        "## constraints"
      ]
    },
    {
      "cell_type": "code",
      "metadata": {
        "id": "A-2toL4Z2Jz1"
      },
      "source": [
        "#foot locations\r\n",
        "l1 = sym.Matrix([sym.cos(th),-sym.sin(th)])  ##right foot in body frame\r\n",
        "l2 = sym.Matrix([-sym.cos(th), -sym.sin(th)]) ##left foot in body frame\r\n",
        "R  = sym.Matrix([[sym.cos(w), -sym.sin(w)],[sym.sin(w), sym.cos(w)]]) ##rotation by w\r\n",
        "p1 = R*l1 \r\n",
        "p2 = R*l2\r\n",
        "p1.simplify()\r\n",
        "p2.simplify()\r\n",
        "p1+=sym.Matrix([x,y])\r\n",
        "p2+=sym.Matrix([x,y])"
      ],
      "execution_count": null,
      "outputs": []
    },
    {
      "cell_type": "code",
      "metadata": {
        "colab": {
          "base_uri": "https://localhost:8080/",
          "height": 62
        },
        "id": "DcxVBujmtx0B",
        "outputId": "b8d3be71-7d11-46b2-9546-75402fe67766"
      },
      "source": [
        "# parabolic ground\r\n",
        "a = -sym.Matrix([p1[0]**2 + p1[1], \r\n",
        "                 p2[0]**2 + p2[1]])\r\n",
        "a"
      ],
      "execution_count": null,
      "outputs": [
        {
          "output_type": "display_data",
          "data": {
            "text/html": [
              "<script src='https://cdnjs.cloudflare.com/ajax/libs/mathjax/2.7.3/latest.js?config=default'></script>"
            ],
            "text/plain": [
              "<IPython.core.display.HTML object>"
            ]
          },
          "metadata": {
            "tags": []
          }
        },
        {
          "output_type": "execute_result",
          "data": {
            "text/latex": "$$\\left[\\begin{matrix}- y - \\left(x + \\cos{\\left (\\omega - \\theta \\right )}\\right)^{2} - \\sin{\\left (\\omega - \\theta \\right )}\\\\- y - \\left(x - \\cos{\\left (\\omega + \\theta \\right )}\\right)^{2} + \\sin{\\left (\\omega + \\theta \\right )}\\end{matrix}\\right]$$",
            "text/plain": [
              "⎡                               2                       ⎤\n",
              "⎢-y - (x + cos(\\omega - \\theta))  - sin(\\omega - \\theta)⎥\n",
              "⎢                                                       ⎥\n",
              "⎢                               2                       ⎥\n",
              "⎣-y - (x - cos(\\omega + \\theta))  + sin(\\omega + \\theta)⎦"
            ]
          },
          "metadata": {
            "tags": []
          },
          "execution_count": 10
        }
      ]
    },
    {
      "cell_type": "code",
      "metadata": {
        "id": "w0PPPO14xFtF"
      },
      "source": [
        "# flat ground\r\n",
        "#a = sym.Matrix([[(y - l*sym.sin(w+th)), (y - l*sym.sin(w-th))]]).T\r\n",
        "#a"
      ],
      "execution_count": null,
      "outputs": []
    },
    {
      "cell_type": "code",
      "metadata": {
        "colab": {
          "base_uri": "https://localhost:8080/",
          "height": 58
        },
        "id": "LLJuIWbgtpZL",
        "outputId": "7566ebe8-b0c1-4fb7-82d1-1de8b613961c"
      },
      "source": [
        "Da = sym.Matrix.hstack(*[sym.diff(a,_) for _ in q])\r\n",
        "Da"
      ],
      "execution_count": null,
      "outputs": [
        {
          "output_type": "display_data",
          "data": {
            "text/html": [
              "<script src='https://cdnjs.cloudflare.com/ajax/libs/mathjax/2.7.3/latest.js?config=default'></script>"
            ],
            "text/plain": [
              "<IPython.core.display.HTML object>"
            ]
          },
          "metadata": {
            "tags": []
          }
        },
        {
          "output_type": "execute_result",
          "data": {
            "text/latex": "$$\\left[\\begin{matrix}- 2 x - 2 \\cos{\\left (\\omega - \\theta \\right )} & -1 & 2 \\left(x + \\cos{\\left (\\omega - \\theta \\right )}\\right) \\sin{\\left (\\omega - \\theta \\right )} - \\cos{\\left (\\omega - \\theta \\right )}\\\\- 2 x + 2 \\cos{\\left (\\omega + \\theta \\right )} & -1 & - 2 \\left(x - \\cos{\\left (\\omega + \\theta \\right )}\\right) \\sin{\\left (\\omega + \\theta \\right )} + \\cos{\\left (\\omega + \\theta \\right )}\\end{matrix}\\right]$$",
            "text/plain": [
              "⎡-2⋅x - 2⋅cos(\\omega - \\theta)  -1  2⋅(x + cos(\\omega - \\theta))⋅sin(\\omega - \n",
              "⎢                                                                             \n",
              "⎣-2⋅x + 2⋅cos(\\omega + \\theta)  -1  -2⋅(x - cos(\\omega + \\theta))⋅sin(\\omega +\n",
              "\n",
              "\\theta) - cos(\\omega - \\theta) ⎤\n",
              "                               ⎥\n",
              " \\theta) + cos(\\omega + \\theta)⎦"
            ]
          },
          "metadata": {
            "tags": []
          },
          "execution_count": 12
        }
      ]
    },
    {
      "cell_type": "code",
      "metadata": {
        "colab": {
          "base_uri": "https://localhost:8080/",
          "height": 58
        },
        "id": "RI1z4v9QyvzC",
        "outputId": "cf3a5bde-e44c-45cd-8a86-297d66bf5d03"
      },
      "source": [
        "Dh = sym.Matrix.hstack(Da,sym.Matrix.zeros(2,3))\r\n",
        "Dh"
      ],
      "execution_count": null,
      "outputs": [
        {
          "output_type": "display_data",
          "data": {
            "text/html": [
              "<script src='https://cdnjs.cloudflare.com/ajax/libs/mathjax/2.7.3/latest.js?config=default'></script>"
            ],
            "text/plain": [
              "<IPython.core.display.HTML object>"
            ]
          },
          "metadata": {
            "tags": []
          }
        },
        {
          "output_type": "execute_result",
          "data": {
            "text/latex": "$$\\left[\\begin{matrix}- 2 x - 2 \\cos{\\left (\\omega - \\theta \\right )} & -1 & 2 \\left(x + \\cos{\\left (\\omega - \\theta \\right )}\\right) \\sin{\\left (\\omega - \\theta \\right )} - \\cos{\\left (\\omega - \\theta \\right )} & 0 & 0 & 0\\\\- 2 x + 2 \\cos{\\left (\\omega + \\theta \\right )} & -1 & - 2 \\left(x - \\cos{\\left (\\omega + \\theta \\right )}\\right) \\sin{\\left (\\omega + \\theta \\right )} + \\cos{\\left (\\omega + \\theta \\right )} & 0 & 0 & 0\\end{matrix}\\right]$$",
            "text/plain": [
              "⎡-2⋅x - 2⋅cos(\\omega - \\theta)  -1  2⋅(x + cos(\\omega - \\theta))⋅sin(\\omega - \n",
              "⎢                                                                             \n",
              "⎣-2⋅x + 2⋅cos(\\omega + \\theta)  -1  -2⋅(x - cos(\\omega + \\theta))⋅sin(\\omega +\n",
              "\n",
              "\\theta) - cos(\\omega - \\theta)   0  0  0⎤\n",
              "                                        ⎥\n",
              " \\theta) + cos(\\omega + \\theta)  0  0  0⎦"
            ]
          },
          "metadata": {
            "tags": []
          },
          "execution_count": 13
        }
      ]
    },
    {
      "cell_type": "code",
      "metadata": {
        "colab": {
          "base_uri": "https://localhost:8080/",
          "height": 58
        },
        "id": "qtex4XEuvKX3",
        "outputId": "dd8f437f-f41a-410b-c6e3-d81733935027"
      },
      "source": [
        "b = sym.Matrix([[x + l*sym.cos(w+th),x + l*sym.cos(w-th)]]).T\r\n",
        "b"
      ],
      "execution_count": null,
      "outputs": [
        {
          "output_type": "display_data",
          "data": {
            "text/html": [
              "<script src='https://cdnjs.cloudflare.com/ajax/libs/mathjax/2.7.3/latest.js?config=default'></script>"
            ],
            "text/plain": [
              "<IPython.core.display.HTML object>"
            ]
          },
          "metadata": {
            "tags": []
          }
        },
        {
          "output_type": "execute_result",
          "data": {
            "text/latex": "$$\\left[\\begin{matrix}\\ell \\cos{\\left (\\omega + \\theta \\right )} + x\\\\\\ell \\cos{\\left (\\omega - \\theta \\right )} + x\\end{matrix}\\right]$$",
            "text/plain": [
              "⎡\\ell⋅cos(\\omega + \\theta) + x⎤\n",
              "⎢                             ⎥\n",
              "⎣\\ell⋅cos(\\omega - \\theta) + x⎦"
            ]
          },
          "metadata": {
            "tags": []
          },
          "execution_count": 14
        }
      ]
    },
    {
      "cell_type": "markdown",
      "metadata": {
        "id": "JrqymIKKe3xl"
      },
      "source": [
        ""
      ]
    },
    {
      "cell_type": "code",
      "metadata": {
        "colab": {
          "base_uri": "https://localhost:8080/",
          "height": 58
        },
        "id": "wluiahs8vf7K",
        "outputId": "79377a6f-b492-4403-8a5a-10bb07971575"
      },
      "source": [
        "Db = sym.Matrix.hstack(*[sym.diff(b,_) for _ in q])\r\n",
        "Db"
      ],
      "execution_count": null,
      "outputs": [
        {
          "output_type": "display_data",
          "data": {
            "text/html": [
              "<script src='https://cdnjs.cloudflare.com/ajax/libs/mathjax/2.7.3/latest.js?config=default'></script>"
            ],
            "text/plain": [
              "<IPython.core.display.HTML object>"
            ]
          },
          "metadata": {
            "tags": []
          }
        },
        {
          "output_type": "execute_result",
          "data": {
            "text/latex": "$$\\left[\\begin{matrix}1 & 0 & - \\ell \\sin{\\left (\\omega + \\theta \\right )}\\\\1 & 0 & - \\ell \\sin{\\left (\\omega - \\theta \\right )}\\end{matrix}\\right]$$",
            "text/plain": [
              "⎡1  0  -\\ell⋅sin(\\omega + \\theta)⎤\n",
              "⎢                                ⎥\n",
              "⎣1  0  -\\ell⋅sin(\\omega - \\theta)⎦"
            ]
          },
          "metadata": {
            "tags": []
          },
          "execution_count": 15
        }
      ]
    },
    {
      "cell_type": "code",
      "metadata": {
        "colab": {
          "base_uri": "https://localhost:8080/",
          "height": 58
        },
        "id": "ejIynOb4vqxp",
        "outputId": "93524767-7df3-4203-8fed-6252152dcaec"
      },
      "source": [
        "Dg = sym.Matrix.hstack(Db,sym.Matrix.zeros(2,3))\r\n",
        "Dg"
      ],
      "execution_count": null,
      "outputs": [
        {
          "output_type": "display_data",
          "data": {
            "text/html": [
              "<script src='https://cdnjs.cloudflare.com/ajax/libs/mathjax/2.7.3/latest.js?config=default'></script>"
            ],
            "text/plain": [
              "<IPython.core.display.HTML object>"
            ]
          },
          "metadata": {
            "tags": []
          }
        },
        {
          "output_type": "execute_result",
          "data": {
            "text/latex": "$$\\left[\\begin{matrix}1 & 0 & - \\ell \\sin{\\left (\\omega + \\theta \\right )} & 0 & 0 & 0\\\\1 & 0 & - \\ell \\sin{\\left (\\omega - \\theta \\right )} & 0 & 0 & 0\\end{matrix}\\right]$$",
            "text/plain": [
              "⎡1  0  -\\ell⋅sin(\\omega + \\theta)  0  0  0⎤\n",
              "⎢                                         ⎥\n",
              "⎣1  0  -\\ell⋅sin(\\omega - \\theta)  0  0  0⎦"
            ]
          },
          "metadata": {
            "tags": []
          },
          "execution_count": 16
        }
      ]
    },
    {
      "cell_type": "markdown",
      "metadata": {
        "id": "ZvupUuCruD48"
      },
      "source": [
        "## vector fields"
      ]
    },
    {
      "cell_type": "code",
      "metadata": {
        "id": "NM55udpSob_D"
      },
      "source": [
        "#Mi = sym.Matrix.inv(M)\r\n",
        "Mi = sym.Matrix.eye(3)"
      ],
      "execution_count": null,
      "outputs": []
    },
    {
      "cell_type": "code",
      "metadata": {
        "id": "V31P_A7yvjWU"
      },
      "source": [
        "F = {}\r\n",
        "for b in [(-1,-1),(+1,-1),(-1,+1),(+1,+1)]:\r\n",
        "  Mddq = f\r\n",
        "  for j in [0,1]:\r\n",
        "    if b[j] > 0:\r\n",
        "      Mddq -= (kappa * a[j] + beta * (Da[j,:] * dq)[0]) * Da[j,:].T\r\n",
        "  if b == (+1,-1):\r\n",
        "    Mddq -= +((beta * (Da[0,:] * dq)[0])**1) * Da[0,:].T / 2 \r\n",
        "  if b == (-1,+1):\r\n",
        "    Mddq -= (beta * (Da[1,:] * dq)[0]) * Da[1,:].T / 2\r\n",
        "  ddq = Mi*Mddq\r\n",
        "  F[b] = (sym.expand(sym.Matrix.vstack(dq,ddq)))"
      ],
      "execution_count": null,
      "outputs": []
    },
    {
      "cell_type": "code",
      "metadata": {
        "colab": {
          "base_uri": "https://localhost:8080/",
          "height": 139
        },
        "id": "zXji2UCjxQ1V",
        "outputId": "d2610eec-f511-47af-ca20-f3c120aa5248"
      },
      "source": [
        "F[(-1,-1)]"
      ],
      "execution_count": null,
      "outputs": [
        {
          "output_type": "display_data",
          "data": {
            "text/html": [
              "<script src='https://cdnjs.cloudflare.com/ajax/libs/mathjax/2.7.3/latest.js?config=default'></script>"
            ],
            "text/plain": [
              "<IPython.core.display.HTML object>"
            ]
          },
          "metadata": {
            "tags": []
          }
        },
        {
          "output_type": "execute_result",
          "data": {
            "text/latex": "$$\\left[\\begin{matrix}\\dot{x}\\\\\\dot{y}\\\\\\dot{\\omega}\\\\0\\\\- g\\\\0\\end{matrix}\\right]$$",
            "text/plain": [
              "⎡  \\dot{x}   ⎤\n",
              "⎢            ⎥\n",
              "⎢  \\dot{y}   ⎥\n",
              "⎢            ⎥\n",
              "⎢\\dot{\\omega}⎥\n",
              "⎢            ⎥\n",
              "⎢     0      ⎥\n",
              "⎢            ⎥\n",
              "⎢     -g     ⎥\n",
              "⎢            ⎥\n",
              "⎣     0      ⎦"
            ]
          },
          "metadata": {
            "tags": []
          },
          "execution_count": 19
        }
      ]
    },
    {
      "cell_type": "code",
      "metadata": {
        "colab": {
          "base_uri": "https://localhost:8080/",
          "height": 162
        },
        "id": "ZZvIsAy7xszj",
        "outputId": "669c6449-2e24-4e83-e68c-a72ba565ac46"
      },
      "source": [
        "F[(+1,-1)]"
      ],
      "execution_count": null,
      "outputs": [
        {
          "output_type": "display_data",
          "data": {
            "text/html": [
              "<script src='https://cdnjs.cloudflare.com/ajax/libs/mathjax/2.7.3/latest.js?config=default'></script>"
            ],
            "text/plain": [
              "<IPython.core.display.HTML object>"
            ]
          },
          "metadata": {
            "tags": []
          }
        },
        {
          "output_type": "execute_result",
          "data": {
            "text/latex": "$$\\left[\\begin{matrix}\\dot{x}\\\\\\dot{y}\\\\\\dot{\\omega}\\\\- 2 \\alpha x^{3} - 6 \\alpha x^{2} \\cos{\\left (\\omega - \\theta \\right )} - 2 \\alpha x y - 2 \\alpha x \\sin{\\left (\\omega - \\theta \\right )} - 6 \\alpha x \\cos^{2}{\\left (\\omega - \\theta \\right )} - 2 \\alpha y \\cos{\\left (\\omega - \\theta \\right )} - 2 \\alpha \\sin{\\left (\\omega - \\theta \\right )} \\cos{\\left (\\omega - \\theta \\right )} - 2 \\alpha \\cos^{3}{\\left (\\omega - \\theta \\right )} + 6 \\beta \\dot{\\omega} x^{2} \\sin{\\left (\\omega - \\theta \\right )} + 12 \\beta \\dot{\\omega} x \\sin{\\left (\\omega - \\theta \\right )} \\cos{\\left (\\omega - \\theta \\right )} - 3 \\beta \\dot{\\omega} x \\cos{\\left (\\omega - \\theta \\right )} + 6 \\beta \\dot{\\omega} \\sin{\\left (\\omega - \\theta \\right )} \\cos^{2}{\\left (\\omega - \\theta \\right )} - 3 \\beta \\dot{\\omega} \\cos^{2}{\\left (\\omega - \\theta \\right )} - 6 \\beta \\dot{x} x^{2} - 12 \\beta \\dot{x} x \\cos{\\left (\\omega - \\theta \\right )} - 6 \\beta \\dot{x} \\cos^{2}{\\left (\\omega - \\theta \\right )} - 3 \\beta \\dot{y} x - 3 \\beta \\dot{y} \\cos{\\left (\\omega - \\theta \\right )}\\\\- \\alpha x^{2} - 2 \\alpha x \\cos{\\left (\\omega - \\theta \\right )} - \\alpha y - \\alpha \\sin{\\left (\\omega - \\theta \\right )} - \\alpha \\cos^{2}{\\left (\\omega - \\theta \\right )} + 3 \\beta \\dot{\\omega} x \\sin{\\left (\\omega - \\theta \\right )} + 3 \\beta \\dot{\\omega} \\sin{\\left (\\omega - \\theta \\right )} \\cos{\\left (\\omega - \\theta \\right )} - \\frac{3 \\beta}{2} \\dot{\\omega} \\cos{\\left (\\omega - \\theta \\right )} - 3 \\beta \\dot{x} x - 3 \\beta \\dot{x} \\cos{\\left (\\omega - \\theta \\right )} - \\frac{3 \\beta}{2} \\dot{y} - g\\\\2 \\alpha x^{3} \\sin{\\left (\\omega - \\theta \\right )} + 6 \\alpha x^{2} \\sin{\\left (\\omega - \\theta \\right )} \\cos{\\left (\\omega - \\theta \\right )} - \\alpha x^{2} \\cos{\\left (\\omega - \\theta \\right )} + 2 \\alpha x y \\sin{\\left (\\omega - \\theta \\right )} + 2 \\alpha x \\sin^{2}{\\left (\\omega - \\theta \\right )} + 6 \\alpha x \\sin{\\left (\\omega - \\theta \\right )} \\cos^{2}{\\left (\\omega - \\theta \\right )} - 2 \\alpha x \\cos^{2}{\\left (\\omega - \\theta \\right )} + 2 \\alpha y \\sin{\\left (\\omega - \\theta \\right )} \\cos{\\left (\\omega - \\theta \\right )} - \\alpha y \\cos{\\left (\\omega - \\theta \\right )} + 2 \\alpha \\sin^{2}{\\left (\\omega - \\theta \\right )} \\cos{\\left (\\omega - \\theta \\right )} + 2 \\alpha \\sin{\\left (\\omega - \\theta \\right )} \\cos^{3}{\\left (\\omega - \\theta \\right )} - \\alpha \\sin{\\left (\\omega - \\theta \\right )} \\cos{\\left (\\omega - \\theta \\right )} - \\alpha \\cos^{3}{\\left (\\omega - \\theta \\right )} - 6 \\beta \\dot{\\omega} x^{2} \\sin^{2}{\\left (\\omega - \\theta \\right )} - 12 \\beta \\dot{\\omega} x \\sin^{2}{\\left (\\omega - \\theta \\right )} \\cos{\\left (\\omega - \\theta \\right )} + 6 \\beta \\dot{\\omega} x \\sin{\\left (\\omega - \\theta \\right )} \\cos{\\left (\\omega - \\theta \\right )} - 6 \\beta \\dot{\\omega} \\sin^{2}{\\left (\\omega - \\theta \\right )} \\cos^{2}{\\left (\\omega - \\theta \\right )} + 6 \\beta \\dot{\\omega} \\sin{\\left (\\omega - \\theta \\right )} \\cos^{2}{\\left (\\omega - \\theta \\right )} - \\frac{3 \\beta}{2} \\dot{\\omega} \\cos^{2}{\\left (\\omega - \\theta \\right )} + 6 \\beta \\dot{x} x^{2} \\sin{\\left (\\omega - \\theta \\right )} + 12 \\beta \\dot{x} x \\sin{\\left (\\omega - \\theta \\right )} \\cos{\\left (\\omega - \\theta \\right )} - 3 \\beta \\dot{x} x \\cos{\\left (\\omega - \\theta \\right )} + 6 \\beta \\dot{x} \\sin{\\left (\\omega - \\theta \\right )} \\cos^{2}{\\left (\\omega - \\theta \\right )} - 3 \\beta \\dot{x} \\cos^{2}{\\left (\\omega - \\theta \\right )} + 3 \\beta \\dot{y} x \\sin{\\left (\\omega - \\theta \\right )} + 3 \\beta \\dot{y} \\sin{\\left (\\omega - \\theta \\right )} \\cos{\\left (\\omega - \\theta \\right )} - \\frac{3 \\beta}{2} \\dot{y} \\cos{\\left (\\omega - \\theta \\right )}\\end{matrix}\\right]$$",
            "text/plain": [
              "⎡                                                                             \n",
              "⎢                                                                             \n",
              "⎢                                                                             \n",
              "⎢                                                                             \n",
              "⎢                                                                             \n",
              "⎢                                                                             \n",
              "⎢                                                                             \n",
              "⎢                                                                             \n",
              "⎢                                                                             \n",
              "⎢                                                                             \n",
              "⎢                                                                             \n",
              "⎢                                                                             \n",
              "⎢                                                                             \n",
              "⎢                                                                             \n",
              "⎢          3                                  2                               \n",
              "⎢2⋅\\alpha⋅x ⋅sin(\\omega - \\theta) + 6⋅\\alpha⋅x ⋅sin(\\omega - \\theta)⋅cos(\\omeg\n",
              "⎣                                                                             \n",
              "\n",
              "                                                                              \n",
              "                                                                              \n",
              "                                                                              \n",
              "                                                                              \n",
              "                                                                              \n",
              "                                                                              \n",
              "                                                                              \n",
              "                                                                              \n",
              "                                                                              \n",
              "                                                                              \n",
              "                                                                              \n",
              "                                                                              \n",
              "                                                                              \n",
              "                                                                              \n",
              "                      2                                                       \n",
              "a - \\theta) - \\alpha⋅x ⋅cos(\\omega - \\theta) + 2⋅\\alpha⋅x⋅y⋅sin(\\omega - \\thet\n",
              "                                                                              \n",
              "\n",
              "                                                                              \n",
              "                                                                              \n",
              "                                                                              \n",
              "                                                                              \n",
              "                                                                              \n",
              "                                                                              \n",
              "                                                                              \n",
              "                                                                              \n",
              "                                                                              \n",
              "                                                                              \n",
              "                                                                              \n",
              "                                                                              \n",
              "                                                                              \n",
              "                                                                              \n",
              "                   2                                                       2  \n",
              "a) + 2⋅\\alpha⋅x⋅sin (\\omega - \\theta) + 6⋅\\alpha⋅x⋅sin(\\omega - \\theta)⋅cos (\\\n",
              "                                                                              \n",
              "\n",
              "                                                                              \n",
              "                                                                              \n",
              "                                                                              \n",
              "                                                                              \n",
              "                                                                              \n",
              "                                                                              \n",
              "                                                                              \n",
              "                                                                              \n",
              "                                                                              \n",
              "                                                                              \n",
              "                                                                              \n",
              "                                                                              \n",
              "                                                                              \n",
              "                                                                              \n",
              "                                2                                             \n",
              "omega - \\theta) - 2⋅\\alpha⋅x⋅cos (\\omega - \\theta) + 2⋅\\alpha⋅y⋅sin(\\omega - \\\n",
              "                                                                              \n",
              "\n",
              "                                                                              \n",
              "                                                                              \n",
              "                                                                              \n",
              "                                                                              \n",
              "                                                                              \n",
              "                                                                              \n",
              "            3             2                                                   \n",
              "- 2⋅\\alpha⋅x  - 6⋅\\alpha⋅x ⋅cos(\\omega - \\theta) - 2⋅\\alpha⋅x⋅y - 2⋅\\alpha⋅x⋅s\n",
              "                                                                              \n",
              "                                                                              \n",
              "                                                                              \n",
              "                                                                              \n",
              "                                                                              \n",
              "                                                                              \n",
              "                                                                          2   \n",
              "theta)⋅cos(\\omega - \\theta) - \\alpha⋅y⋅cos(\\omega - \\theta) + 2⋅\\alpha⋅sin (\\o\n",
              "                                                                              \n",
              "\n",
              "                                                                              \n",
              "                                                                              \n",
              "                                                                              \n",
              "                                                                              \n",
              "                                                                              \n",
              "                                                                              \n",
              "                                    2                                         \n",
              "in(\\omega - \\theta) - 6⋅\\alpha⋅x⋅cos (\\omega - \\theta) - 2⋅\\alpha⋅y⋅cos(\\omega\n",
              "                                                                              \n",
              "                                                                              \n",
              "                                                                              \n",
              "                                                                              \n",
              "                                                                              \n",
              "                                                                              \n",
              "                                                                       3      \n",
              "mega - \\theta)⋅cos(\\omega - \\theta) + 2⋅\\alpha⋅sin(\\omega - \\theta)⋅cos (\\omeg\n",
              "                                                                              \n",
              "\n",
              "                                                                              \n",
              "                                                                              \n",
              "                                                                              \n",
              "                                                                              \n",
              "                                                                              \n",
              "                                                                              \n",
              "                                                                              \n",
              " - \\theta) - 2⋅\\alpha⋅sin(\\omega - \\theta)⋅cos(\\omega - \\theta) - 2⋅\\alpha⋅cos\n",
              "                                                                              \n",
              "                     2                                                        \n",
              "           - \\alpha⋅x  - 2⋅\\alpha⋅x⋅cos(\\omega - \\theta) - \\alpha⋅y - \\alpha⋅s\n",
              "                                                                              \n",
              "                                                                              \n",
              "                                                                              \n",
              "                                                                           3  \n",
              "a - \\theta) - \\alpha⋅sin(\\omega - \\theta)⋅cos(\\omega - \\theta) - \\alpha⋅cos (\\\n",
              "                                                                              \n",
              "\n",
              "                                                                              \n",
              "                                                                              \n",
              "                                                                              \n",
              "                                                                              \n",
              "                                                                              \n",
              "                                                                              \n",
              "3                                          2                                  \n",
              " (\\omega - \\theta) + 6⋅\\beta⋅\\dot{\\omega}⋅x ⋅sin(\\omega - \\theta) + 12⋅\\beta⋅\\\n",
              "                                                                              \n",
              "                                2                                             \n",
              "in(\\omega - \\theta) - \\alpha⋅cos (\\omega - \\theta) + 3⋅\\beta⋅\\dot{\\omega}⋅x⋅si\n",
              "                                                                              \n",
              "                                                                              \n",
              "                                                                              \n",
              "                                        2    2                                \n",
              "omega - \\theta) - 6⋅\\beta⋅\\dot{\\omega}⋅x ⋅sin (\\omega - \\theta) - 12⋅\\beta⋅\\do\n",
              "                                                                              \n",
              "\n",
              "                            \\dot{x}                                           \n",
              "                                                                              \n",
              "                            \\dot{y}                                           \n",
              "                                                                              \n",
              "                         \\dot{\\omega}                                         \n",
              "                                                                              \n",
              "                                                                              \n",
              "dot{\\omega}⋅x⋅sin(\\omega - \\theta)⋅cos(\\omega - \\theta) - 3⋅\\beta⋅\\dot{\\omega}\n",
              "                                                                              \n",
              "                                                                              \n",
              "n(\\omega - \\theta) + 3⋅\\beta⋅\\dot{\\omega}⋅sin(\\omega - \\theta)⋅cos(\\omega - \\t\n",
              "                                                                              \n",
              "                                                                              \n",
              "                                                                              \n",
              "               2                                                              \n",
              "t{\\omega}⋅x⋅sin (\\omega - \\theta)⋅cos(\\omega - \\theta) + 6⋅\\beta⋅\\dot{\\omega}⋅\n",
              "                                                                              \n",
              "\n",
              "                                                                              \n",
              "                                                                              \n",
              "                                                                              \n",
              "                                                                              \n",
              "                                                                              \n",
              "                                                                              \n",
              "                                                                       2      \n",
              "⋅x⋅cos(\\omega - \\theta) + 6⋅\\beta⋅\\dot{\\omega}⋅sin(\\omega - \\theta)⋅cos (\\omeg\n",
              "                                                                              \n",
              "        3⋅\\beta⋅\\dot{\\omega}⋅cos(\\omega - \\theta)                             \n",
              "heta) - ───────────────────────────────────────── - 3⋅\\beta⋅\\dot{x}⋅x - 3⋅\\bet\n",
              "                            2                                                 \n",
              "                                                                              \n",
              "                                                                              \n",
              "                                                                      2       \n",
              "x⋅sin(\\omega - \\theta)⋅cos(\\omega - \\theta) - 6⋅\\beta⋅\\dot{\\omega}⋅sin (\\omega\n",
              "                                                                              \n",
              "\n",
              "                                                                              \n",
              "                                                                              \n",
              "                                                                              \n",
              "                                                                              \n",
              "                                                                              \n",
              "                                                                              \n",
              "                                      2                                     2 \n",
              "a - \\theta) - 3⋅\\beta⋅\\dot{\\omega}⋅cos (\\omega - \\theta) - 6⋅\\beta⋅\\dot{x}⋅x  \n",
              "                                                                              \n",
              "                                 3⋅\\beta⋅\\dot{y}                              \n",
              "a⋅\\dot{x}⋅cos(\\omega - \\theta) - ─────────────── - g                          \n",
              "                                        2                                     \n",
              "                                                                              \n",
              "                                                                              \n",
              "              2                                                               \n",
              " - \\theta)⋅cos (\\omega - \\theta) + 6⋅\\beta⋅\\dot{\\omega}⋅sin(\\omega - \\theta)⋅c\n",
              "                                                                              \n",
              "\n",
              "                                                                              \n",
              "                                                                              \n",
              "                                                                              \n",
              "                                                                              \n",
              "                                                                              \n",
              "                                                                              \n",
              "                                                               2              \n",
              "- 12⋅\\beta⋅\\dot{x}⋅x⋅cos(\\omega - \\theta) - 6⋅\\beta⋅\\dot{x}⋅cos (\\omega - \\the\n",
              "                                                                              \n",
              "                                                                              \n",
              "                                                                              \n",
              "                                                                              \n",
              "                                                                              \n",
              "                                               2                              \n",
              "  2                    3⋅\\beta⋅\\dot{\\omega}⋅cos (\\omega - \\theta)             \n",
              "os (\\omega - \\theta) - ────────────────────────────────────────── + 6⋅\\beta⋅\\d\n",
              "                                           2                                  \n",
              "\n",
              "                                                                              \n",
              "                                                                              \n",
              "                                                                              \n",
              "                                                                              \n",
              "                                                                              \n",
              "                                                                              \n",
              "                                                                              \n",
              "ta) - 3⋅\\beta⋅\\dot{y}⋅x - 3⋅\\beta⋅\\dot{y}⋅cos(\\omega - \\theta)                \n",
              "                                                                              \n",
              "                                                                              \n",
              "                                                                              \n",
              "                                                                              \n",
              "                                                                              \n",
              "                                                                              \n",
              "       2                                                                      \n",
              "ot{x}⋅x ⋅sin(\\omega - \\theta) + 12⋅\\beta⋅\\dot{x}⋅x⋅sin(\\omega - \\theta)⋅cos(\\o\n",
              "                                                                              \n",
              "\n",
              "                                                                              \n",
              "                                                                              \n",
              "                                                                              \n",
              "                                                                              \n",
              "                                                                              \n",
              "                                                                              \n",
              "                                                                              \n",
              "                                                                              \n",
              "                                                                              \n",
              "                                                                              \n",
              "                                                                              \n",
              "                                                                              \n",
              "                                                                              \n",
              "                                                                              \n",
              "                                                                              \n",
              "mega - \\theta) - 3⋅\\beta⋅\\dot{x}⋅x⋅cos(\\omega - \\theta) + 6⋅\\beta⋅\\dot{x}⋅sin(\n",
              "                                                                              \n",
              "\n",
              "                                                                              \n",
              "                                                                              \n",
              "                                                                              \n",
              "                                                                              \n",
              "                                                                              \n",
              "                                                                              \n",
              "                                                                              \n",
              "                                                                              \n",
              "                                                                              \n",
              "                                                                              \n",
              "                                                                              \n",
              "                                                                              \n",
              "                                                                              \n",
              "                                                                              \n",
              "                    2                                       2                 \n",
              "\\omega - \\theta)⋅cos (\\omega - \\theta) - 3⋅\\beta⋅\\dot{x}⋅cos (\\omega - \\theta)\n",
              "                                                                              \n",
              "\n",
              "                                                                              \n",
              "                                                                              \n",
              "                                                                              \n",
              "                                                                              \n",
              "                                                                              \n",
              "                                                                              \n",
              "                                                                              \n",
              "                                                                              \n",
              "                                                                              \n",
              "                                                                              \n",
              "                                                                              \n",
              "                                                                              \n",
              "                                                                              \n",
              "                                                                              \n",
              "                                                                              \n",
              " + 3⋅\\beta⋅\\dot{y}⋅x⋅sin(\\omega - \\theta) + 3⋅\\beta⋅\\dot{y}⋅sin(\\omega - \\thet\n",
              "                                                                              \n",
              "\n",
              "                                                              ⎤\n",
              "                                                              ⎥\n",
              "                                                              ⎥\n",
              "                                                              ⎥\n",
              "                                                              ⎥\n",
              "                                                              ⎥\n",
              "                                                              ⎥\n",
              "                                                              ⎥\n",
              "                                                              ⎥\n",
              "                                                              ⎥\n",
              "                                                              ⎥\n",
              "                                                              ⎥\n",
              "                                                              ⎥\n",
              "                                                              ⎥\n",
              "                          3⋅\\beta⋅\\dot{y}⋅cos(\\omega - \\theta)⎥\n",
              "a)⋅cos(\\omega - \\theta) - ────────────────────────────────────⎥\n",
              "                                           2                  ⎦"
            ]
          },
          "metadata": {
            "tags": []
          },
          "execution_count": 23
        }
      ]
    },
    {
      "cell_type": "code",
      "metadata": {
        "id": "eyvhbx8rxuMJ"
      },
      "source": [
        "F[(-1,+1)]"
      ],
      "execution_count": null,
      "outputs": []
    },
    {
      "cell_type": "code",
      "metadata": {
        "id": "e68Xdj5-xvGg"
      },
      "source": [
        "F[(+1,+1)]"
      ],
      "execution_count": null,
      "outputs": []
    },
    {
      "cell_type": "markdown",
      "metadata": {
        "id": "zHWoNU1rx_-l"
      },
      "source": [
        "## saltation matrices"
      ]
    },
    {
      "cell_type": "code",
      "metadata": {
        "id": "kz6flXZNyRkS"
      },
      "source": [
        "I6 = sym.Matrix.eye(6)"
      ],
      "execution_count": null,
      "outputs": []
    },
    {
      "cell_type": "code",
      "metadata": {
        "id": "M26ccXGqyBKP"
      },
      "source": [
        "M12 = ( (I6 + (F[(+1,+1)] - F[(+1,-1)])*Dh[1,:]/Dh[1,:].dot(F[(+1,-1)])) \r\n",
        "      * (I6 + (F[(+1,-1)] - F[(-1,-1)])*Dh[0,:]/Dh[0,:].dot(F[(-1,-1)])) )"
      ],
      "execution_count": null,
      "outputs": []
    },
    {
      "cell_type": "code",
      "metadata": {
        "id": "Fys7BZO2ypUL",
        "colab": {
          "base_uri": "https://localhost:8080/"
        },
        "outputId": "9a9353b9-9fe6-45b4-a003-0fe0940b170a"
      },
      "source": [
        "M21 = ( (I6 + (F[(+1,+1)] - F[(-1,+1)])*Dh[0,:]/Dh[0,:].dot(F[(-1,+1)])) \r\n",
        "      * (I6 + (F[(-1,+1)] - F[(-1,-1)])*Dh[1,:]/Dh[1,:].dot(F[(-1,-1)])) )\r\n",
        "v=M21[-2,:].subs({x:0,w:0,dx:0,dw:0, kappa:1,beta:1, th:np.pi/4})\r\n",
        "u=M12[-2,:].subs({x:0,w:0,dx:0,dw:0, kappa:1,beta:1, th:np.pi/4})\r\n",
        "print(v)\r\n",
        "print(u)\r\n"
      ],
      "execution_count": null,
      "outputs": [
        {
          "output_type": "stream",
          "text": [
            "Matrix([[-1.4142135623731*(-3*\\dot{y}/2 - y + 0.207106781186547)/\\dot{y} + 1.4142135623731*(-\\dot{y}/2 - y + 0.207106781186547)/\\dot{y}, -(\\dot{y}/2 + y - 0.207106781186547)/\\dot{y} - (3*\\dot{y}/2 + y - 0.207106781186547)/\\dot{y}, -1.70710678118655*(-3*\\dot{y}/2 - y + 0.207106781186547)/\\dot{y} + 1.70710678118655*(-\\dot{y}/2 - y + 0.207106781186547)/\\dot{y}, 0, 1, 0]])\n",
            "Matrix([[1.4142135623731*(-3*\\dot{y}/2 - y + 0.207106781186547)/\\dot{y} - 1.4142135623731*(-\\dot{y}/2 - y + 0.207106781186547)/\\dot{y}, -(\\dot{y}/2 + y - 0.207106781186547)/\\dot{y} - (3*\\dot{y}/2 + y - 0.207106781186547)/\\dot{y}, 1.70710678118655*(-3*\\dot{y}/2 - y + 0.207106781186547)/\\dot{y} - 1.70710678118655*(-\\dot{y}/2 - y + 0.207106781186547)/\\dot{y}, 0, 1, 0]])\n"
          ],
          "name": "stdout"
        }
      ]
    },
    {
      "cell_type": "code",
      "metadata": {
        "id": "MjFmdd37AqP9"
      },
      "source": [
        ""
      ],
      "execution_count": null,
      "outputs": []
    },
    {
      "cell_type": "code",
      "metadata": {
        "id": "5a2fn9hAAp93"
      },
      "source": [
        ""
      ],
      "execution_count": null,
      "outputs": []
    },
    {
      "cell_type": "code",
      "metadata": {
        "colab": {
          "base_uri": "https://localhost:8080/",
          "height": 139
        },
        "id": "6_iPvObizlDl",
        "outputId": "7c6fe189-9cac-4f66-de24-66623f6c9d66"
      },
      "source": [
        "dM = sym.simplify((M12 - M21).subs({x:0,w:0,dx:0,dw:0}))\r\n",
        "dM"
      ],
      "execution_count": null,
      "outputs": [
        {
          "output_type": "display_data",
          "data": {
            "text/html": [
              "<script src='https://cdnjs.cloudflare.com/ajax/libs/mathjax/2.7.3/latest.js?config=default'></script>"
            ],
            "text/plain": [
              "<IPython.core.display.HTML object>"
            ]
          },
          "metadata": {
            "tags": []
          }
        },
        {
          "output_type": "execute_result",
          "data": {
            "text/latex": "$$\\left[\\begin{matrix}0 & 0 & 0 & 0 & 0 & 0\\\\0 & 0 & 0 & 0 & 0 & 0\\\\0 & 0 & 0 & 0 & 0 & 0\\\\0 & 0 & 0 & 0 & 0 & 0\\\\- 4 \\beta \\cos{\\left (\\theta \\right )} & 0 & - 2 \\beta \\left(\\sin{\\left (2 \\theta \\right )} + \\cos{\\left (\\theta \\right )}\\right) & 0 & 0 & 0\\\\0 & 0 & 0 & 0 & 0 & 0\\end{matrix}\\right]$$",
            "text/plain": [
              "⎡         0            0                    0                     0  0  0⎤\n",
              "⎢                                                                        ⎥\n",
              "⎢         0            0                    0                     0  0  0⎥\n",
              "⎢                                                                        ⎥\n",
              "⎢         0            0                    0                     0  0  0⎥\n",
              "⎢                                                                        ⎥\n",
              "⎢         0            0                    0                     0  0  0⎥\n",
              "⎢                                                                        ⎥\n",
              "⎢-4⋅\\beta⋅cos(\\theta)  0  -2⋅\\beta⋅(sin(2⋅\\theta) + cos(\\theta))  0  0  0⎥\n",
              "⎢                                                                        ⎥\n",
              "⎣         0            0                    0                     0  0  0⎦"
            ]
          },
          "metadata": {
            "tags": []
          },
          "execution_count": 27
        }
      ]
    },
    {
      "cell_type": "code",
      "metadata": {
        "id": "lvAlAuHvu-uY"
      },
      "source": [
        "sym.simplify(dM.subs({w:0}))"
      ],
      "execution_count": null,
      "outputs": []
    }
  ]
}